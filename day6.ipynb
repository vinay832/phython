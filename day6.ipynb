{
 "cells": [
  {
   "cell_type": "markdown",
   "id": "cc6c4002",
   "metadata": {},
   "source": [
    "# set datatype or data structure"
   ]
  },
  {
   "cell_type": "code",
   "execution_count": null,
   "id": "d78eee4b",
   "metadata": {},
   "outputs": [],
   "source": [
    "set---collection of multiple elements of different data types"
   ]
  },
  {
   "cell_type": "code",
   "execution_count": null,
   "id": "5ab07d5a",
   "metadata": {},
   "outputs": [],
   "source": [
    "## declare in {}"
   ]
  },
  {
   "cell_type": "code",
   "execution_count": null,
   "id": "a8b50bac",
   "metadata": {},
   "outputs": [],
   "source": [
    "## set doesnt duplicates or avoid duplicates"
   ]
  },
  {
   "cell_type": "code",
   "execution_count": 2,
   "id": "4492e95b",
   "metadata": {},
   "outputs": [],
   "source": [
    "s={3,'abc',4,6,4} duplicate 4 is avoided"
   ]
  },
  {
   "cell_type": "code",
   "execution_count": 3,
   "id": "d3e7d802",
   "metadata": {},
   "outputs": [
    {
     "name": "stdout",
     "output_type": "stream",
     "text": [
      "{'abc', 3, 4, 6}\n"
     ]
    }
   ],
   "source": [
    "print(s)"
   ]
  },
  {
   "cell_type": "code",
   "execution_count": 4,
   "id": "e55a659a",
   "metadata": {},
   "outputs": [
    {
     "data": {
      "text/plain": [
       "set"
      ]
     },
     "execution_count": 4,
     "metadata": {},
     "output_type": "execute_result"
    }
   ],
   "source": [
    "type(s)"
   ]
  },
  {
   "cell_type": "code",
   "execution_count": 5,
   "id": "45fca758",
   "metadata": {},
   "outputs": [],
   "source": [
    "s={1,1,1,1}"
   ]
  },
  {
   "cell_type": "code",
   "execution_count": 6,
   "id": "df7495f6",
   "metadata": {},
   "outputs": [
    {
     "name": "stdout",
     "output_type": "stream",
     "text": [
      "{1}\n"
     ]
    }
   ],
   "source": [
    "print(s)"
   ]
  },
  {
   "cell_type": "code",
   "execution_count": null,
   "id": "9eaff33c",
   "metadata": {},
   "outputs": [],
   "source": [
    "#adding elements\n",
    "#updating elements\n",
    "#del elements"
   ]
  },
  {
   "cell_type": "code",
   "execution_count": null,
   "id": "61c91053",
   "metadata": {},
   "outputs": [],
   "source": [
    "#adding elements to set    c.add()   z.update(c)   c.remove()"
   ]
  },
  {
   "cell_type": "code",
   "execution_count": 7,
   "id": "0ded686a",
   "metadata": {},
   "outputs": [],
   "source": [
    "c={23,45,67,89,12,45,12,56,78}"
   ]
  },
  {
   "cell_type": "code",
   "execution_count": 8,
   "id": "942eabb0",
   "metadata": {},
   "outputs": [
    {
     "name": "stdout",
     "output_type": "stream",
     "text": [
      "{67, 12, 45, 78, 23, 56, 89}\n"
     ]
    }
   ],
   "source": [
    "print(c)"
   ]
  },
  {
   "cell_type": "code",
   "execution_count": 9,
   "id": "7c8771a2",
   "metadata": {},
   "outputs": [
    {
     "data": {
      "text/plain": [
       "7"
      ]
     },
     "execution_count": 9,
     "metadata": {},
     "output_type": "execute_result"
    }
   ],
   "source": [
    "len(c)"
   ]
  },
  {
   "cell_type": "code",
   "execution_count": 11,
   "id": "21fbd601",
   "metadata": {},
   "outputs": [],
   "source": [
    "c.add(30)"
   ]
  },
  {
   "cell_type": "code",
   "execution_count": 12,
   "id": "eac7d735",
   "metadata": {},
   "outputs": [
    {
     "name": "stdout",
     "output_type": "stream",
     "text": [
      "{67, 12, 45, 78, 23, 56, 89, 30}\n"
     ]
    }
   ],
   "source": [
    "print(c)"
   ]
  },
  {
   "cell_type": "code",
   "execution_count": 13,
   "id": "d7109fe6",
   "metadata": {},
   "outputs": [],
   "source": [
    "##updating"
   ]
  },
  {
   "cell_type": "code",
   "execution_count": 15,
   "id": "dc10e69d",
   "metadata": {},
   "outputs": [],
   "source": [
    "z={21,41}"
   ]
  },
  {
   "cell_type": "code",
   "execution_count": 17,
   "id": "18cb5448",
   "metadata": {},
   "outputs": [
    {
     "name": "stdout",
     "output_type": "stream",
     "text": [
      "{41, 21}\n"
     ]
    }
   ],
   "source": [
    "print(z)"
   ]
  },
  {
   "cell_type": "code",
   "execution_count": 18,
   "id": "b6e4b81a",
   "metadata": {},
   "outputs": [],
   "source": [
    "z.update(c)"
   ]
  },
  {
   "cell_type": "code",
   "execution_count": 19,
   "id": "b56772fc",
   "metadata": {},
   "outputs": [
    {
     "name": "stdout",
     "output_type": "stream",
     "text": [
      "{67, 41, 12, 45, 78, 21, 23, 56, 89, 30}\n"
     ]
    }
   ],
   "source": [
    "print(z)"
   ]
  },
  {
   "cell_type": "code",
   "execution_count": 20,
   "id": "2649a15a",
   "metadata": {},
   "outputs": [],
   "source": [
    "c.update(z)"
   ]
  },
  {
   "cell_type": "code",
   "execution_count": 21,
   "id": "c6873141",
   "metadata": {},
   "outputs": [
    {
     "name": "stdout",
     "output_type": "stream",
     "text": [
      "{67, 41, 12, 45, 78, 21, 23, 56, 89, 30}\n"
     ]
    }
   ],
   "source": [
    "print(c)"
   ]
  },
  {
   "cell_type": "code",
   "execution_count": null,
   "id": "f3c93854",
   "metadata": {},
   "outputs": [],
   "source": [
    "#del elements in set"
   ]
  },
  {
   "cell_type": "code",
   "execution_count": null,
   "id": "655f152f",
   "metadata": {},
   "outputs": [],
   "source": [
    "pop\n",
    "remove\n",
    "delete"
   ]
  },
  {
   "cell_type": "code",
   "execution_count": 22,
   "id": "80eee50d",
   "metadata": {},
   "outputs": [],
   "source": [
    "c.remove(41)"
   ]
  },
  {
   "cell_type": "code",
   "execution_count": 23,
   "id": "14ef79a4",
   "metadata": {},
   "outputs": [
    {
     "name": "stdout",
     "output_type": "stream",
     "text": [
      "{67, 12, 45, 78, 21, 23, 56, 89, 30}\n"
     ]
    }
   ],
   "source": [
    "print(c)"
   ]
  },
  {
   "cell_type": "code",
   "execution_count": 24,
   "id": "0062c2a2",
   "metadata": {},
   "outputs": [
    {
     "data": {
      "text/plain": [
       "9"
      ]
     },
     "execution_count": 24,
     "metadata": {},
     "output_type": "execute_result"
    }
   ],
   "source": [
    "len(c)"
   ]
  },
  {
   "cell_type": "markdown",
   "id": "926b5ede",
   "metadata": {},
   "source": [
    "# functions"
   ]
  },
  {
   "cell_type": "code",
   "execution_count": null,
   "id": "f8bfdc4d",
   "metadata": {},
   "outputs": [],
   "source": [
    "function declaration----main(){}\n",
    "function defination\n",
    "function calling"
   ]
  },
  {
   "cell_type": "code",
   "execution_count": null,
   "id": "936a471b",
   "metadata": {},
   "outputs": [],
   "source": [
    "function---to execute a specific task"
   ]
  },
  {
   "cell_type": "code",
   "execution_count": null,
   "id": "a39c075e",
   "metadata": {},
   "outputs": [],
   "source": [
    "1code resuability\n",
    "2.easily understandable\n",
    "3.easily debugging"
   ]
  },
  {
   "cell_type": "code",
   "execution_count": null,
   "id": "03b21780",
   "metadata": {},
   "outputs": [],
   "source": [
    "#defining a function and calling a function"
   ]
  },
  {
   "cell_type": "code",
   "execution_count": null,
   "id": "fe14e4f8",
   "metadata": {},
   "outputs": [],
   "source": [
    "##define----------def keyword"
   ]
  },
  {
   "cell_type": "code",
   "execution_count": 25,
   "id": "6ddc3f89",
   "metadata": {},
   "outputs": [],
   "source": [
    "def vin():\n",
    "    print('hello how are you')"
   ]
  },
  {
   "cell_type": "code",
   "execution_count": 27,
   "id": "5898408c",
   "metadata": {},
   "outputs": [
    {
     "name": "stdout",
     "output_type": "stream",
     "text": [
      "hello how are you\n"
     ]
    }
   ],
   "source": [
    "vin()"
   ]
  },
  {
   "cell_type": "code",
   "execution_count": null,
   "id": "37471159",
   "metadata": {},
   "outputs": [],
   "source": [
    "##enhancement code modifying the code"
   ]
  },
  {
   "cell_type": "code",
   "execution_count": null,
   "id": "4184cd00",
   "metadata": {},
   "outputs": [],
   "source": [
    "def sai(user):------------>arg passing\n",
    "    \"creating a function for greeting students\"\n",
    "    print(f\"hello good to see you,{user.upper()}\")----sample"
   ]
  },
  {
   "cell_type": "code",
   "execution_count": 35,
   "id": "26bab133",
   "metadata": {},
   "outputs": [],
   "source": [
    "def vincare(user):\n",
    "    print(f\"hello good to see you,{user.upper()}\")"
   ]
  },
  {
   "cell_type": "code",
   "execution_count": 36,
   "id": "8c0b8b7d",
   "metadata": {},
   "outputs": [
    {
     "name": "stdout",
     "output_type": "stream",
     "text": [
      "hello good to see you,SUNNY\n"
     ]
    }
   ],
   "source": [
    "vincare('sunny')"
   ]
  },
  {
   "cell_type": "code",
   "execution_count": null,
   "id": "96733085",
   "metadata": {},
   "outputs": [],
   "source": []
  }
 ],
 "metadata": {
  "kernelspec": {
   "display_name": "Python 3",
   "language": "python",
   "name": "python3"
  },
  "language_info": {
   "codemirror_mode": {
    "name": "ipython",
    "version": 3
   },
   "file_extension": ".py",
   "mimetype": "text/x-python",
   "name": "python",
   "nbconvert_exporter": "python",
   "pygments_lexer": "ipython3",
   "version": "3.8.8"
  }
 },
 "nbformat": 4,
 "nbformat_minor": 5
}
