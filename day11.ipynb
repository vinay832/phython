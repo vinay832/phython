{
 "cells": [
  {
   "cell_type": "markdown",
   "id": "d7ff9485",
   "metadata": {},
   "source": [
    "# file handling"
   ]
  },
  {
   "cell_type": "code",
   "execution_count": null,
   "id": "d6600f53",
   "metadata": {},
   "outputs": [],
   "source": [
    "1.read------------------->\"r\"\n",
    "2.write------------------->\"w\"\n",
    "3.append------------------->\"a\""
   ]
  },
  {
   "cell_type": "code",
   "execution_count": null,
   "id": "8f227cf9",
   "metadata": {},
   "outputs": [],
   "source": [
    "##request------------->reading a text file"
   ]
  },
  {
   "cell_type": "code",
   "execution_count": null,
   "id": "88afa0a5",
   "metadata": {},
   "outputs": [],
   "source": [
    "with open('corona.txt') as file_object:\n",
    "    contents=file_object.read()\n",
    "    print(contents)"
   ]
  },
  {
   "cell_type": "code",
   "execution_count": null,
   "id": "d8f713ff",
   "metadata": {},
   "outputs": [],
   "source": [
    "with open('sample.txt') as file_object:\n",
    "    contents=file_object.read()\n",
    "    print(contents)"
   ]
  },
  {
   "cell_type": "code",
   "execution_count": null,
   "id": "0a3650e1",
   "metadata": {},
   "outputs": [],
   "source": [
    "#another syntax to read the data"
   ]
  },
  {
   "cell_type": "code",
   "execution_count": null,
   "id": "7b9f28f3",
   "metadata": {},
   "outputs": [],
   "source": [
    "p=open('corona.txt',\"r\")\n",
    "print(p.read(30))"
   ]
  },
  {
   "cell_type": "code",
   "execution_count": 4,
   "id": "87f902cc",
   "metadata": {},
   "outputs": [
    {
     "ename": "FileNotFoundError",
     "evalue": "[Errno 2] No such file or directory: 'rhymes.txt'",
     "output_type": "error",
     "traceback": [
      "\u001b[1;31m---------------------------------------------------------------------------\u001b[0m",
      "\u001b[1;31mFileNotFoundError\u001b[0m                         Traceback (most recent call last)",
      "\u001b[1;32m<ipython-input-4-6f02847270c9>\u001b[0m in \u001b[0;36m<module>\u001b[1;34m\u001b[0m\n\u001b[1;32m----> 1\u001b[1;33m \u001b[0mp\u001b[0m\u001b[1;33m=\u001b[0m\u001b[0mopen\u001b[0m\u001b[1;33m(\u001b[0m\u001b[1;34m'rhymes.txt'\u001b[0m\u001b[1;33m,\u001b[0m\u001b[1;34m\"r\"\u001b[0m\u001b[1;33m)\u001b[0m\u001b[1;33m\u001b[0m\u001b[1;33m\u001b[0m\u001b[0m\n\u001b[0m\u001b[0;32m      2\u001b[0m \u001b[0mprint\u001b[0m\u001b[1;33m(\u001b[0m\u001b[0mp\u001b[0m\u001b[1;33m.\u001b[0m\u001b[0mread\u001b[0m\u001b[1;33m(\u001b[0m\u001b[1;33m)\u001b[0m\u001b[1;33m)\u001b[0m\u001b[1;33m\u001b[0m\u001b[1;33m\u001b[0m\u001b[0m\n",
      "\u001b[1;31mFileNotFoundError\u001b[0m: [Errno 2] No such file or directory: 'rhymes.txt'"
     ]
    }
   ],
   "source": [
    "p=open('rhymes.txt',\"r\")\n",
    "print(p.read())"
   ]
  },
  {
   "cell_type": "code",
   "execution_count": null,
   "id": "c44031bc",
   "metadata": {},
   "outputs": [],
   "source": [
    "request--->write the data to a file"
   ]
  },
  {
   "cell_type": "code",
   "execution_count": 5,
   "id": "f0f827b3",
   "metadata": {},
   "outputs": [
    {
     "ename": "FileNotFoundError",
     "evalue": "[Errno 2] No such file or directory: 'corona.txt'",
     "output_type": "error",
     "traceback": [
      "\u001b[1;31m---------------------------------------------------------------------------\u001b[0m",
      "\u001b[1;31mFileNotFoundError\u001b[0m                         Traceback (most recent call last)",
      "\u001b[1;32m<ipython-input-5-46945b9a2479>\u001b[0m in \u001b[0;36m<module>\u001b[1;34m\u001b[0m\n\u001b[1;32m----> 1\u001b[1;33m \u001b[1;32mwith\u001b[0m \u001b[0mopen\u001b[0m\u001b[1;33m(\u001b[0m\u001b[1;34m'corona.txt'\u001b[0m\u001b[1;33m)\u001b[0m \u001b[1;32mas\u001b[0m \u001b[0mfile_object\u001b[0m\u001b[1;33m:\u001b[0m\u001b[1;33m\u001b[0m\u001b[1;33m\u001b[0m\u001b[0m\n\u001b[0m\u001b[0;32m      2\u001b[0m     \u001b[0mcontents\u001b[0m\u001b[1;33m=\u001b[0m\u001b[0mfile_object\u001b[0m\u001b[1;33m.\u001b[0m\u001b[0mread\u001b[0m\u001b[1;33m(\u001b[0m\u001b[1;33m)\u001b[0m\u001b[1;33m\u001b[0m\u001b[1;33m\u001b[0m\u001b[0m\n\u001b[0;32m      3\u001b[0m     \u001b[0mprint\u001b[0m\u001b[1;33m(\u001b[0m\u001b[0mcontents\u001b[0m\u001b[1;33m)\u001b[0m\u001b[1;33m\u001b[0m\u001b[1;33m\u001b[0m\u001b[0m\n",
      "\u001b[1;31mFileNotFoundError\u001b[0m: [Errno 2] No such file or directory: 'corona.txt'"
     ]
    }
   ],
   "source": [
    "with open('corona.txt') as file_object:\n",
    "    contents=file_object.read()\n",
    "    print(contents)"
   ]
  },
  {
   "cell_type": "code",
   "execution_count": null,
   "id": "e7b75c0d",
   "metadata": {},
   "outputs": [],
   "source": []
  },
  {
   "cell_type": "code",
   "execution_count": null,
   "id": "f92cdc24",
   "metadata": {},
   "outputs": [],
   "source": []
  },
  {
   "cell_type": "code",
   "execution_count": 6,
   "id": "4f3e186e",
   "metadata": {},
   "outputs": [],
   "source": [
    "filename='corona.txt'\n",
    "with open(filename,'w') as file_object:\n",
    "    file_object.write('helplinenumber,+9178352771')"
   ]
  },
  {
   "cell_type": "code",
   "execution_count": 7,
   "id": "0f51cf6a",
   "metadata": {},
   "outputs": [
    {
     "name": "stdout",
     "output_type": "stream",
     "text": [
      "helplinenumber,+9178352771\n"
     ]
    }
   ],
   "source": [
    "with open('corona.txt') as file_object:\n",
    "    contents=file_object.read()\n",
    "    print(contents)"
   ]
  },
  {
   "cell_type": "code",
   "execution_count": 8,
   "id": "b89e0ee7",
   "metadata": {},
   "outputs": [],
   "source": [
    "filename='sample.txt'\n",
    "with open(filename,'w') as file_object:\n",
    "    file_object.write('arkansas state university')"
   ]
  },
  {
   "cell_type": "code",
   "execution_count": 10,
   "id": "cf7620be",
   "metadata": {},
   "outputs": [
    {
     "name": "stdout",
     "output_type": "stream",
     "text": [
      "arkansas state university\n"
     ]
    }
   ],
   "source": [
    "with open('sample.txt') as file_object:\n",
    "    contents=file_object.read()\n",
    "    print(contents)"
   ]
  },
  {
   "cell_type": "code",
   "execution_count": null,
   "id": "1bcbdcb4",
   "metadata": {},
   "outputs": [],
   "source": [
    "#append the data to a file"
   ]
  },
  {
   "cell_type": "code",
   "execution_count": 11,
   "id": "2fa10631",
   "metadata": {},
   "outputs": [],
   "source": [
    "filename='corona.txt'\n",
    "with open(filename,'a') as file_object:\n",
    "    file_object.write('stay home\\n')\n",
    "    file_object.write('+918687387\\n\\t')"
   ]
  },
  {
   "cell_type": "code",
   "execution_count": 12,
   "id": "21727ed6",
   "metadata": {},
   "outputs": [
    {
     "name": "stdout",
     "output_type": "stream",
     "text": [
      "helplinenumber,+9178352771stay home\n",
      "+918687387\n",
      "\t\n"
     ]
    }
   ],
   "source": [
    "with open('corona.txt') as file_object:\n",
    "    contents=file_object.read()\n",
    "    print(contents)"
   ]
  },
  {
   "cell_type": "code",
   "execution_count": null,
   "id": "653f1b41",
   "metadata": {},
   "outputs": [],
   "source": []
  },
  {
   "cell_type": "code",
   "execution_count": null,
   "id": "b814d425",
   "metadata": {},
   "outputs": [],
   "source": []
  },
  {
   "cell_type": "code",
   "execution_count": null,
   "id": "9847e41c",
   "metadata": {},
   "outputs": [],
   "source": []
  },
  {
   "cell_type": "code",
   "execution_count": null,
   "id": "3ee2cc6a",
   "metadata": {},
   "outputs": [],
   "source": []
  },
  {
   "cell_type": "code",
   "execution_count": null,
   "id": "d6583b84",
   "metadata": {},
   "outputs": [],
   "source": []
  }
 ],
 "metadata": {
  "kernelspec": {
   "display_name": "Python 3",
   "language": "python",
   "name": "python3"
  },
  "language_info": {
   "codemirror_mode": {
    "name": "ipython",
    "version": 3
   },
   "file_extension": ".py",
   "mimetype": "text/x-python",
   "name": "python",
   "nbconvert_exporter": "python",
   "pygments_lexer": "ipython3",
   "version": "3.8.8"
  }
 },
 "nbformat": 4,
 "nbformat_minor": 5
}
