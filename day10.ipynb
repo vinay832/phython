{
 "cells": [
  {
   "cell_type": "code",
   "execution_count": null,
   "id": "ba0aabea",
   "metadata": {},
   "outputs": [],
   "source": [
    "example:"
   ]
  },
  {
   "cell_type": "code",
   "execution_count": 2,
   "id": "cc186b14",
   "metadata": {},
   "outputs": [],
   "source": [
    "class parentclass:\n",
    "    var1='im var1'\n",
    "    var2='im var2'"
   ]
  },
  {
   "cell_type": "code",
   "execution_count": 3,
   "id": "60e4be13",
   "metadata": {},
   "outputs": [],
   "source": [
    "class childclass(parentclass):\n",
    "      pass"
   ]
  },
  {
   "cell_type": "code",
   "execution_count": 4,
   "id": "e052023b",
   "metadata": {},
   "outputs": [],
   "source": [
    "pobj=parentclass()"
   ]
  },
  {
   "cell_type": "code",
   "execution_count": 5,
   "id": "6e683c1a",
   "metadata": {},
   "outputs": [
    {
     "data": {
      "text/plain": [
       "'im var1'"
      ]
     },
     "execution_count": 5,
     "metadata": {},
     "output_type": "execute_result"
    }
   ],
   "source": [
    "pobj.var1"
   ]
  },
  {
   "cell_type": "code",
   "execution_count": 6,
   "id": "fcca986e",
   "metadata": {},
   "outputs": [
    {
     "data": {
      "text/plain": [
       "'im var2'"
      ]
     },
     "execution_count": 6,
     "metadata": {},
     "output_type": "execute_result"
    }
   ],
   "source": [
    "pobj.var2"
   ]
  },
  {
   "cell_type": "code",
   "execution_count": 7,
   "id": "df7b7f8c",
   "metadata": {},
   "outputs": [],
   "source": [
    "cobj=childclass()"
   ]
  },
  {
   "cell_type": "code",
   "execution_count": 8,
   "id": "369e96b4",
   "metadata": {},
   "outputs": [
    {
     "data": {
      "text/plain": [
       "'im var1'"
      ]
     },
     "execution_count": 8,
     "metadata": {},
     "output_type": "execute_result"
    }
   ],
   "source": [
    "cobj.var1"
   ]
  },
  {
   "cell_type": "code",
   "execution_count": 9,
   "id": "bdc410e4",
   "metadata": {},
   "outputs": [
    {
     "data": {
      "text/plain": [
       "'im var2'"
      ]
     },
     "execution_count": 9,
     "metadata": {},
     "output_type": "execute_result"
    }
   ],
   "source": [
    "cobj.var2"
   ]
  },
  {
   "cell_type": "code",
   "execution_count": 10,
   "id": "f399c259",
   "metadata": {},
   "outputs": [
    {
     "name": "stdout",
     "output_type": "stream",
     "text": [
      "im var1 im var2\n"
     ]
    }
   ],
   "source": [
    "print(cobj.var1,cobj.var2)"
   ]
  },
  {
   "cell_type": "markdown",
   "id": "0ba1d12d",
   "metadata": {},
   "source": [
    "# constructor"
   ]
  },
  {
   "cell_type": "code",
   "execution_count": null,
   "id": "c19126f0",
   "metadata": {},
   "outputs": [],
   "source": [
    "it is a special method in phython or it is also called magical method using in initializing"
   ]
  },
  {
   "cell_type": "code",
   "execution_count": null,
   "id": "e6068a9f",
   "metadata": {},
   "outputs": [],
   "source": [
    "__init__,__del__"
   ]
  },
  {
   "cell_type": "code",
   "execution_count": null,
   "id": "4b44db31",
   "metadata": {},
   "outputs": [],
   "source": [
    "example1"
   ]
  },
  {
   "cell_type": "code",
   "execution_count": 25,
   "id": "cfca093a",
   "metadata": {},
   "outputs": [],
   "source": [
    "class student:\n",
    "    def __init__(self,name,age,height):\n",
    "        self.name=name\n",
    "        self.age=age\n",
    "        self.height=height\n",
    "        print('he is my student')\n",
    "    def rank(self):\n",
    "        print(f\"{self.name} got first rank\")\n",
    "    def show(self):\n",
    "        print(f\"his age is{self.age} and his height is{self.height}\")"
   ]
  },
  {
   "cell_type": "code",
   "execution_count": 26,
   "id": "7b873c75",
   "metadata": {},
   "outputs": [
    {
     "name": "stdout",
     "output_type": "stream",
     "text": [
      "he is my student\n"
     ]
    }
   ],
   "source": [
    "sss=student('sai',22,4)"
   ]
  },
  {
   "cell_type": "code",
   "execution_count": 28,
   "id": "5177dc59",
   "metadata": {},
   "outputs": [
    {
     "name": "stdout",
     "output_type": "stream",
     "text": [
      "sai got first rank\n"
     ]
    }
   ],
   "source": [
    "sss.rank()"
   ]
  },
  {
   "cell_type": "code",
   "execution_count": 29,
   "id": "8f1c678f",
   "metadata": {},
   "outputs": [
    {
     "name": "stdout",
     "output_type": "stream",
     "text": [
      "his age is22 and his height is4\n"
     ]
    }
   ],
   "source": [
    "sss.show()"
   ]
  },
  {
   "cell_type": "code",
   "execution_count": 31,
   "id": "bf164f4b",
   "metadata": {},
   "outputs": [
    {
     "name": "stdout",
     "output_type": "stream",
     "text": [
      "he is my student\n",
      "sun got first rank\n",
      "his age is22 and his height is6\n"
     ]
    }
   ],
   "source": [
    "sss=student('sun',22,6)\n",
    "sss.rank()\n",
    "sss.show()"
   ]
  },
  {
   "cell_type": "code",
   "execution_count": null,
   "id": "96403691",
   "metadata": {},
   "outputs": [],
   "source": [
    "example:"
   ]
  },
  {
   "cell_type": "code",
   "execution_count": 32,
   "id": "c57cc4fc",
   "metadata": {},
   "outputs": [],
   "source": [
    "class person:\n",
    "    def __del__(self,age,name,bgrp):\n",
    "        self.age=age\n",
    "        self.name=name\n",
    "        self.bgrp=bgrp\n",
    "        def show(self):\n",
    "            print(\"hi this is\"+self.name)"
   ]
  },
  {
   "cell_type": "code",
   "execution_count": 36,
   "id": "a1e401a3",
   "metadata": {},
   "outputs": [
    {
     "ename": "TypeError",
     "evalue": "person() takes no arguments",
     "output_type": "error",
     "traceback": [
      "\u001b[1;31m---------------------------------------------------------------------------\u001b[0m",
      "\u001b[1;31mTypeError\u001b[0m                                 Traceback (most recent call last)",
      "\u001b[1;32m<ipython-input-36-b3ca37270d78>\u001b[0m in \u001b[0;36m<module>\u001b[1;34m\u001b[0m\n\u001b[1;32m----> 1\u001b[1;33m \u001b[0mabc\u001b[0m\u001b[1;33m=\u001b[0m\u001b[0mperson\u001b[0m\u001b[1;33m(\u001b[0m\u001b[1;36m23\u001b[0m\u001b[1;33m,\u001b[0m\u001b[1;34m'dad'\u001b[0m\u001b[1;33m,\u001b[0m\u001b[1;34m'o_'\u001b[0m\u001b[1;33m)\u001b[0m\u001b[1;33m\u001b[0m\u001b[1;33m\u001b[0m\u001b[0m\n\u001b[0m",
      "\u001b[1;31mTypeError\u001b[0m: person() takes no arguments"
     ]
    }
   ],
   "source": [
    "abc=person(23,'dad','o_')"
   ]
  },
  {
   "cell_type": "code",
   "execution_count": null,
   "id": "e83d1242",
   "metadata": {},
   "outputs": [],
   "source": [
    "##dog class"
   ]
  },
  {
   "cell_type": "code",
   "execution_count": 39,
   "id": "d6e2d9ab",
   "metadata": {},
   "outputs": [],
   "source": [
    "class dog:\n",
    "    def __init__(self,name,age):\n",
    "        self.name=name\n",
    "        self.age=age\n",
    "        print('this is correct')\n",
    "    def sit(self):\n",
    "        print(f\"{self.name} is now sitting\")\n",
    "    def rollover(self):\n",
    "         print(f\"{self.name} is now rolling\")\n",
    "    def jump(self):\n",
    "         print(f\"{self.name} is now jumping\")\n"
   ]
  },
  {
   "cell_type": "code",
   "execution_count": 40,
   "id": "7c84758c",
   "metadata": {},
   "outputs": [
    {
     "name": "stdout",
     "output_type": "stream",
     "text": [
      "this is correct\n"
     ]
    }
   ],
   "source": [
    "obj=dog('tommy',5)"
   ]
  },
  {
   "cell_type": "code",
   "execution_count": 41,
   "id": "74178ba8",
   "metadata": {},
   "outputs": [
    {
     "name": "stdout",
     "output_type": "stream",
     "text": [
      "tommy is now sitting\n",
      "tommy is now rolling\n",
      "tommy is now jumping\n"
     ]
    }
   ],
   "source": [
    "obj.sit()\n",
    "obj.rollover()\n",
    "obj.jump()"
   ]
  },
  {
   "cell_type": "code",
   "execution_count": null,
   "id": "87222a9b",
   "metadata": {},
   "outputs": [],
   "source": []
  },
  {
   "cell_type": "code",
   "execution_count": null,
   "id": "19c72b8e",
   "metadata": {},
   "outputs": [],
   "source": []
  },
  {
   "cell_type": "code",
   "execution_count": null,
   "id": "dab0e35d",
   "metadata": {},
   "outputs": [],
   "source": []
  },
  {
   "cell_type": "code",
   "execution_count": null,
   "id": "b5df6093",
   "metadata": {},
   "outputs": [],
   "source": []
  }
 ],
 "metadata": {
  "kernelspec": {
   "display_name": "Python 3",
   "language": "python",
   "name": "python3"
  },
  "language_info": {
   "codemirror_mode": {
    "name": "ipython",
    "version": 3
   },
   "file_extension": ".py",
   "mimetype": "text/x-python",
   "name": "python",
   "nbconvert_exporter": "python",
   "pygments_lexer": "ipython3",
   "version": "3.8.8"
  }
 },
 "nbformat": 4,
 "nbformat_minor": 5
}
