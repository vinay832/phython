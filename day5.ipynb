{
 "cells": [
  {
   "cell_type": "code",
   "execution_count": 4,
   "id": "86e6b404",
   "metadata": {},
   "outputs": [
    {
     "name": "stdout",
     "output_type": "stream",
     "text": [
      "enter the num i will tell the number type2433\n",
      "the num is odd\n"
     ]
    }
   ],
   "source": [
    "num=int(input(\"enter the num i will tell the number type\"))\n",
    "if num%2==0:\n",
    "    print(\"the num is even\")\n",
    "else:\n",
    "    print(\"the num is odd\")\n"
   ]
  },
  {
   "cell_type": "code",
   "execution_count": 5,
   "id": "f648748c",
   "metadata": {},
   "outputs": [
    {
     "name": "stdout",
     "output_type": "stream",
     "text": [
      "enter the num i will tell the number type3456\n",
      "the num is even\n"
     ]
    }
   ],
   "source": [
    "num=int(input('enter the num i will tell the number type'))\n",
    "if num%3==0:\n",
    "    print(\"the num is even\")\n",
    "else:\n",
    "    print(\"the num is odd\")\n"
   ]
  },
  {
   "cell_type": "code",
   "execution_count": null,
   "id": "66d0355d",
   "metadata": {},
   "outputs": [],
   "source": [
    "##print kia in upper case remaining all are in lower case or title case"
   ]
  },
  {
   "cell_type": "code",
   "execution_count": 6,
   "id": "843fbbd1",
   "metadata": {},
   "outputs": [],
   "source": [
    "cars=['audi','bmw','kia','toyata']"
   ]
  },
  {
   "cell_type": "code",
   "execution_count": 7,
   "id": "d35baeee",
   "metadata": {},
   "outputs": [
    {
     "name": "stdout",
     "output_type": "stream",
     "text": [
      "Audi\n",
      "Bmw\n",
      "KIA\n",
      "Toyata\n"
     ]
    }
   ],
   "source": [
    "for x in cars:\n",
    "    if x=='kia':\n",
    "        print(x.upper())\n",
    "    else:\n",
    "        print(x.title())"
   ]
  },
  {
   "cell_type": "code",
   "execution_count": null,
   "id": "babdb87a",
   "metadata": {},
   "outputs": [],
   "source": [
    "##print 1 to 30 using while loop"
   ]
  },
  {
   "cell_type": "code",
   "execution_count": 2,
   "id": "70cf20c5",
   "metadata": {},
   "outputs": [
    {
     "name": "stdout",
     "output_type": "stream",
     "text": [
      "1\n",
      "3\n",
      "5\n",
      "7\n",
      "9\n",
      "11\n",
      "13\n",
      "15\n",
      "17\n",
      "19\n",
      "21\n",
      "23\n",
      "25\n",
      "27\n",
      "29\n"
     ]
    }
   ],
   "source": [
    "num=1\n",
    "while num<=30:\n",
    "    print(num)\n",
    "    num=num+2"
   ]
  },
  {
   "cell_type": "code",
   "execution_count": 3,
   "id": "ee014b47",
   "metadata": {},
   "outputs": [
    {
     "name": "stdout",
     "output_type": "stream",
     "text": [
      "enter the age to vote19\n",
      "you are eligible to vote\n"
     ]
    }
   ],
   "source": [
    "age=int(input('enter the age to vote'))\n",
    "if  age>=18:\n",
    "    print('you are eligible to vote')\n",
    "else:\n",
    "    print('you are not eligible to vote')"
   ]
  },
  {
   "cell_type": "code",
   "execution_count": 4,
   "id": "069e875e",
   "metadata": {},
   "outputs": [
    {
     "name": "stdout",
     "output_type": "stream",
     "text": [
      "enter the age to vote14\n",
      "you are not eligible to vote\n"
     ]
    }
   ],
   "source": [
    "age=int(input('enter the age to vote'))\n",
    "if  age>=18:\n",
    "    print('you are eligible to vote')\n",
    "else:\n",
    "    print('you are not eligible to vote')"
   ]
  },
  {
   "cell_type": "code",
   "execution_count": null,
   "id": "72d513ab",
   "metadata": {},
   "outputs": [],
   "source": []
  }
 ],
 "metadata": {
  "kernelspec": {
   "display_name": "Python 3",
   "language": "python",
   "name": "python3"
  },
  "language_info": {
   "codemirror_mode": {
    "name": "ipython",
    "version": 3
   },
   "file_extension": ".py",
   "mimetype": "text/x-python",
   "name": "python",
   "nbconvert_exporter": "python",
   "pygments_lexer": "ipython3",
   "version": "3.8.8"
  }
 },
 "nbformat": 4,
 "nbformat_minor": 5
}
