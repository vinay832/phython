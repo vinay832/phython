{
 "cells": [
  {
   "cell_type": "code",
   "execution_count": 1,
   "id": "2c1f50f2",
   "metadata": {},
   "outputs": [
    {
     "name": "stdout",
     "output_type": "stream",
     "text": [
      "hi all please get vaccinated\n"
     ]
    }
   ],
   "source": [
    "print(\"hi all please get vaccinated\")"
   ]
  },
  {
   "cell_type": "code",
   "execution_count": null,
   "id": "42100dc5",
   "metadata": {},
   "outputs": [],
   "source": [
    "example:"
   ]
  },
  {
   "cell_type": "code",
   "execution_count": 4,
   "id": "da6414b3",
   "metadata": {},
   "outputs": [],
   "source": [
    "class fruits:\n",
    "    def mango(self):\n",
    "        print('it is yellow')\n",
    "    def strawberry(self):\n",
    "        print('it is red')"
   ]
  },
  {
   "cell_type": "code",
   "execution_count": 5,
   "id": "01086e56",
   "metadata": {},
   "outputs": [],
   "source": [
    "set=fruits()"
   ]
  },
  {
   "cell_type": "code",
   "execution_count": 6,
   "id": "3df33715",
   "metadata": {},
   "outputs": [
    {
     "name": "stdout",
     "output_type": "stream",
     "text": [
      "it is yellow\n"
     ]
    }
   ],
   "source": [
    "set.mango()"
   ]
  },
  {
   "cell_type": "code",
   "execution_count": 7,
   "id": "193cc8a0",
   "metadata": {},
   "outputs": [
    {
     "name": "stdout",
     "output_type": "stream",
     "text": [
      "it is red\n"
     ]
    }
   ],
   "source": [
    "set.strawberry()"
   ]
  },
  {
   "cell_type": "code",
   "execution_count": null,
   "id": "f9c167c9",
   "metadata": {},
   "outputs": [],
   "source": [
    "#example4:"
   ]
  },
  {
   "cell_type": "code",
   "execution_count": 8,
   "id": "0d005a21",
   "metadata": {},
   "outputs": [],
   "source": [
    "class example:\n",
    "    eyes='blue'\n",
    "    age=22\n",
    "    def show(self):\n",
    "        print('hey hi how are you')\n",
    "    def this(self):\n",
    "        print('iam gd')"
   ]
  },
  {
   "cell_type": "code",
   "execution_count": 11,
   "id": "41857f36",
   "metadata": {},
   "outputs": [],
   "source": [
    "sobj=example()"
   ]
  },
  {
   "cell_type": "code",
   "execution_count": 13,
   "id": "bcce5baf",
   "metadata": {},
   "outputs": [
    {
     "data": {
      "text/plain": [
       "'blue'"
      ]
     },
     "execution_count": 13,
     "metadata": {},
     "output_type": "execute_result"
    }
   ],
   "source": [
    "sobj.eyes"
   ]
  },
  {
   "cell_type": "code",
   "execution_count": 14,
   "id": "b78d4188",
   "metadata": {},
   "outputs": [
    {
     "name": "stdout",
     "output_type": "stream",
     "text": [
      "hey hi how are you\n"
     ]
    }
   ],
   "source": [
    "sobj.show()"
   ]
  },
  {
   "cell_type": "code",
   "execution_count": 15,
   "id": "23da01c0",
   "metadata": {},
   "outputs": [
    {
     "name": "stdout",
     "output_type": "stream",
     "text": [
      "iam gd\n"
     ]
    }
   ],
   "source": [
    "sobj.this()"
   ]
  },
  {
   "cell_type": "code",
   "execution_count": null,
   "id": "b32a0283",
   "metadata": {},
   "outputs": [],
   "source": [
    "##oops"
   ]
  },
  {
   "cell_type": "code",
   "execution_count": null,
   "id": "6ae31181",
   "metadata": {},
   "outputs": [],
   "source": [
    "inheritence-->accquring the properties from parent class to child class"
   ]
  },
  {
   "cell_type": "code",
   "execution_count": 17,
   "id": "e3d4854a",
   "metadata": {},
   "outputs": [],
   "source": [
    "class boss:\n",
    "    gm='swetha'---parent class\n",
    "    manager='manoj'\n",
    "class management(boss):---passing parent class\n",
    "        ceo ='sai'----child class\n",
    "        pass"
   ]
  },
  {
   "cell_type": "code",
   "execution_count": 18,
   "id": "2307ec4c",
   "metadata": {},
   "outputs": [],
   "source": [
    "abc=boss()---object for parent class"
   ]
  },
  {
   "cell_type": "code",
   "execution_count": 19,
   "id": "42112dd1",
   "metadata": {},
   "outputs": [
    {
     "data": {
      "text/plain": [
       "'swetha'"
      ]
     },
     "execution_count": 19,
     "metadata": {},
     "output_type": "execute_result"
    }
   ],
   "source": [
    "abc.gm"
   ]
  },
  {
   "cell_type": "code",
   "execution_count": 20,
   "id": "a321ee4e",
   "metadata": {},
   "outputs": [
    {
     "data": {
      "text/plain": [
       "'manoj'"
      ]
     },
     "execution_count": 20,
     "metadata": {},
     "output_type": "execute_result"
    }
   ],
   "source": [
    "abc.manager"
   ]
  },
  {
   "cell_type": "code",
   "execution_count": 24,
   "id": "58ef52a9",
   "metadata": {},
   "outputs": [],
   "source": [
    "bbb=management()----other object for child class"
   ]
  },
  {
   "cell_type": "code",
   "execution_count": 25,
   "id": "ca7d2943",
   "metadata": {},
   "outputs": [
    {
     "data": {
      "text/plain": [
       "'swetha'"
      ]
     },
     "execution_count": 25,
     "metadata": {},
     "output_type": "execute_result"
    }
   ],
   "source": [
    "bbb.gm"
   ]
  },
  {
   "cell_type": "code",
   "execution_count": 26,
   "id": "26643d36",
   "metadata": {},
   "outputs": [
    {
     "data": {
      "text/plain": [
       "'sai'"
      ]
     },
     "execution_count": 26,
     "metadata": {},
     "output_type": "execute_result"
    }
   ],
   "source": [
    "bbb.ceo"
   ]
  },
  {
   "cell_type": "code",
   "execution_count": 27,
   "id": "7481444a",
   "metadata": {},
   "outputs": [
    {
     "data": {
      "text/plain": [
       "'swetha'"
      ]
     },
     "execution_count": 27,
     "metadata": {},
     "output_type": "execute_result"
    }
   ],
   "source": [
    "bbb.gm---getting the parent class member using child object"
   ]
  },
  {
   "cell_type": "code",
   "execution_count": 28,
   "id": "3e85fd3f",
   "metadata": {},
   "outputs": [
    {
     "ename": "SyntaxError",
     "evalue": "invalid syntax (<ipython-input-28-60935e6d038a>, line 1)",
     "output_type": "error",
     "traceback": [
      "\u001b[1;36m  File \u001b[1;32m\"<ipython-input-28-60935e6d038a>\"\u001b[1;36m, line \u001b[1;32m1\u001b[0m\n\u001b[1;33m    abc.ceo-----------we cant get the child class members using parent object\u001b[0m\n\u001b[1;37m                         ^\u001b[0m\n\u001b[1;31mSyntaxError\u001b[0m\u001b[1;31m:\u001b[0m invalid syntax\n"
     ]
    }
   ],
   "source": [
    "abc.ceo-----------we cant get the child class members using parent object"
   ]
  },
  {
   "cell_type": "code",
   "execution_count": null,
   "id": "8867f818",
   "metadata": {},
   "outputs": [],
   "source": [
    "#ex"
   ]
  },
  {
   "cell_type": "code",
   "execution_count": 39,
   "id": "9ab6f647",
   "metadata": {},
   "outputs": [],
   "source": [
    "class parentclass(childclass):\n",
    "    a=50\n",
    "    b=60\n",
    "    def show(self):\n",
    "        print(\"this is parent class\")\n",
    "class childclass(parentclass):\n",
    "    c=54\n",
    "    d=56\n",
    "    def display(self):\n",
    "        print(\"this is child class\") "
   ]
  },
  {
   "cell_type": "code",
   "execution_count": 40,
   "id": "84205464",
   "metadata": {},
   "outputs": [],
   "source": [
    "podj=parentclass()"
   ]
  },
  {
   "cell_type": "code",
   "execution_count": 41,
   "id": "77477b61",
   "metadata": {},
   "outputs": [
    {
     "data": {
      "text/plain": [
       "50"
      ]
     },
     "execution_count": 41,
     "metadata": {},
     "output_type": "execute_result"
    }
   ],
   "source": [
    "podj.a"
   ]
  },
  {
   "cell_type": "code",
   "execution_count": 42,
   "id": "4f4b6308",
   "metadata": {},
   "outputs": [
    {
     "data": {
      "text/plain": [
       "60"
      ]
     },
     "execution_count": 42,
     "metadata": {},
     "output_type": "execute_result"
    }
   ],
   "source": [
    "podj.b"
   ]
  },
  {
   "cell_type": "code",
   "execution_count": 49,
   "id": "74f8473b",
   "metadata": {},
   "outputs": [
    {
     "name": "stdout",
     "output_type": "stream",
     "text": [
      "this is parent class\n"
     ]
    }
   ],
   "source": [
    "podj.show()"
   ]
  },
  {
   "cell_type": "code",
   "execution_count": 50,
   "id": "21df98ec",
   "metadata": {},
   "outputs": [],
   "source": [
    "cobj=childclass()"
   ]
  },
  {
   "cell_type": "code",
   "execution_count": 51,
   "id": "476b82e8",
   "metadata": {},
   "outputs": [
    {
     "data": {
      "text/plain": [
       "54"
      ]
     },
     "execution_count": 51,
     "metadata": {},
     "output_type": "execute_result"
    }
   ],
   "source": [
    "cobj.c"
   ]
  },
  {
   "cell_type": "code",
   "execution_count": 52,
   "id": "5e43c8ce",
   "metadata": {},
   "outputs": [
    {
     "data": {
      "text/plain": [
       "56"
      ]
     },
     "execution_count": 52,
     "metadata": {},
     "output_type": "execute_result"
    }
   ],
   "source": [
    "cobj.d"
   ]
  },
  {
   "cell_type": "code",
   "execution_count": 53,
   "id": "ead0ee33",
   "metadata": {},
   "outputs": [
    {
     "name": "stdout",
     "output_type": "stream",
     "text": [
      "this is child class\n"
     ]
    }
   ],
   "source": [
    "cobj.display()"
   ]
  },
  {
   "cell_type": "code",
   "execution_count": 54,
   "id": "c29b145f",
   "metadata": {},
   "outputs": [
    {
     "data": {
      "text/plain": [
       "50"
      ]
     },
     "execution_count": 54,
     "metadata": {},
     "output_type": "execute_result"
    }
   ],
   "source": [
    "cobj.a"
   ]
  },
  {
   "cell_type": "code",
   "execution_count": 55,
   "id": "9a21a7bf",
   "metadata": {},
   "outputs": [
    {
     "data": {
      "text/plain": [
       "60"
      ]
     },
     "execution_count": 55,
     "metadata": {},
     "output_type": "execute_result"
    }
   ],
   "source": [
    "cobj.b"
   ]
  },
  {
   "cell_type": "code",
   "execution_count": 56,
   "id": "217dc4a0",
   "metadata": {},
   "outputs": [
    {
     "name": "stdout",
     "output_type": "stream",
     "text": [
      "this is parent class\n"
     ]
    }
   ],
   "source": [
    "cobj.show()"
   ]
  },
  {
   "cell_type": "code",
   "execution_count": 60,
   "id": "b11b352a",
   "metadata": {},
   "outputs": [
    {
     "data": {
      "text/plain": [
       "54"
      ]
     },
     "execution_count": 60,
     "metadata": {},
     "output_type": "execute_result"
    }
   ],
   "source": [
    "podj.c"
   ]
  },
  {
   "cell_type": "code",
   "execution_count": 61,
   "id": "31ff5650",
   "metadata": {},
   "outputs": [
    {
     "data": {
      "text/plain": [
       "56"
      ]
     },
     "execution_count": 61,
     "metadata": {},
     "output_type": "execute_result"
    }
   ],
   "source": [
    "podj.d"
   ]
  },
  {
   "cell_type": "code",
   "execution_count": 62,
   "id": "9fa99b92",
   "metadata": {},
   "outputs": [
    {
     "name": "stdout",
     "output_type": "stream",
     "text": [
      "this is child class\n"
     ]
    }
   ],
   "source": [
    "podj.display()"
   ]
  },
  {
   "cell_type": "code",
   "execution_count": null,
   "id": "4bc759dd",
   "metadata": {},
   "outputs": [],
   "source": []
  }
 ],
 "metadata": {
  "kernelspec": {
   "display_name": "Python 3",
   "language": "python",
   "name": "python3"
  },
  "language_info": {
   "codemirror_mode": {
    "name": "ipython",
    "version": 3
   },
   "file_extension": ".py",
   "mimetype": "text/x-python",
   "name": "python",
   "nbconvert_exporter": "python",
   "pygments_lexer": "ipython3",
   "version": "3.8.8"
  }
 },
 "nbformat": 4,
 "nbformat_minor": 5
}
