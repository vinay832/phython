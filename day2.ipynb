{
 "cells": [
  {
   "cell_type": "code",
   "execution_count": 1,
   "id": "ab7e28c1",
   "metadata": {},
   "outputs": [
    {
     "name": "stdout",
     "output_type": "stream",
     "text": [
      "hi all \t stay home \n",
      " stay happy\n"
     ]
    }
   ],
   "source": [
    "print(\"hi all \\t stay home \\n stay happy\")"
   ]
  },
  {
   "cell_type": "code",
   "execution_count": 2,
   "id": "4631bed3",
   "metadata": {},
   "outputs": [
    {
     "name": "stdout",
     "output_type": "stream",
     "text": [
      "hi all  \n",
      " stay happy\n"
     ]
    }
   ],
   "source": [
    "print(\"hi all  \\n stay happy\")"
   ]
  },
  {
   "cell_type": "code",
   "execution_count": 3,
   "id": "3799a115",
   "metadata": {},
   "outputs": [
    {
     "name": "stdout",
     "output_type": "stream",
     "text": [
      "hi all \t stay happy\n"
     ]
    }
   ],
   "source": [
    "print(\"hi all \\t stay happy\")"
   ]
  },
  {
   "cell_type": "code",
   "execution_count": 5,
   "id": "6cbd5c27",
   "metadata": {},
   "outputs": [
    {
     "name": "stdout",
     "output_type": "stream",
     "text": [
      "hi all\n",
      " stay happy\n"
     ]
    }
   ],
   "source": [
    "print(\"hi all\\n stay happy\")"
   ]
  },
  {
   "cell_type": "markdown",
   "id": "42c243b6",
   "metadata": {},
   "source": [
    "# organising a list"
   ]
  },
  {
   "cell_type": "code",
   "execution_count": null,
   "id": "57db9275",
   "metadata": {},
   "outputs": [],
   "source": [
    "i want to organize in alphabetical order"
   ]
  },
  {
   "cell_type": "code",
   "execution_count": 7,
   "id": "ed08ea7d",
   "metadata": {},
   "outputs": [],
   "source": [
    "funtime=['sai','sunny','vinay','amma','nana','priya','harsha','praba']"
   ]
  },
  {
   "cell_type": "code",
   "execution_count": 8,
   "id": "1477103b",
   "metadata": {},
   "outputs": [
    {
     "name": "stdout",
     "output_type": "stream",
     "text": [
      "['sai', 'sunny', 'vinay', 'amma', 'nana', 'priya', 'harsha', 'praba']\n"
     ]
    }
   ],
   "source": [
    "print(funtime)"
   ]
  },
  {
   "cell_type": "code",
   "execution_count": 9,
   "id": "dff7e69d",
   "metadata": {},
   "outputs": [],
   "source": [
    "funtime.sort()"
   ]
  },
  {
   "cell_type": "code",
   "execution_count": 10,
   "id": "0eab04f6",
   "metadata": {},
   "outputs": [
    {
     "name": "stdout",
     "output_type": "stream",
     "text": [
      "['amma', 'harsha', 'nana', 'praba', 'priya', 'sai', 'sunny', 'vinay']\n"
     ]
    }
   ],
   "source": [
    "print(funtime)"
   ]
  },
  {
   "cell_type": "code",
   "execution_count": 11,
   "id": "7b3176a5",
   "metadata": {},
   "outputs": [],
   "source": [
    "funtime.reverse()"
   ]
  },
  {
   "cell_type": "code",
   "execution_count": 12,
   "id": "6fdb2be7",
   "metadata": {},
   "outputs": [
    {
     "name": "stdout",
     "output_type": "stream",
     "text": [
      "['vinay', 'sunny', 'sai', 'priya', 'praba', 'nana', 'harsha', 'amma']\n"
     ]
    }
   ],
   "source": [
    "print(funtime)"
   ]
  },
  {
   "cell_type": "code",
   "execution_count": 13,
   "id": "e53a60db",
   "metadata": {},
   "outputs": [
    {
     "data": {
      "text/plain": [
       "8"
      ]
     },
     "execution_count": 13,
     "metadata": {},
     "output_type": "execute_result"
    }
   ],
   "source": [
    "len(funtime)"
   ]
  },
  {
   "cell_type": "markdown",
   "id": "41607871",
   "metadata": {},
   "source": [
    "# copy of list"
   ]
  },
  {
   "cell_type": "code",
   "execution_count": 14,
   "id": "430df6f6",
   "metadata": {},
   "outputs": [],
   "source": [
    "necktime=funtime[:]"
   ]
  },
  {
   "cell_type": "code",
   "execution_count": 15,
   "id": "4a57b3c7",
   "metadata": {},
   "outputs": [
    {
     "name": "stdout",
     "output_type": "stream",
     "text": [
      "['vinay', 'sunny', 'sai', 'priya', 'praba', 'nana', 'harsha', 'amma']\n"
     ]
    }
   ],
   "source": [
    "print(necktime)"
   ]
  },
  {
   "cell_type": "code",
   "execution_count": 16,
   "id": "a4c2a9b7",
   "metadata": {},
   "outputs": [],
   "source": [
    "##negative index"
   ]
  },
  {
   "cell_type": "code",
   "execution_count": 17,
   "id": "425a058d",
   "metadata": {},
   "outputs": [
    {
     "name": "stdout",
     "output_type": "stream",
     "text": [
      "['vinay', 'sunny', 'sai', 'priya', 'praba', 'nana', 'harsha', 'amma']\n"
     ]
    }
   ],
   "source": [
    "print(funtime)"
   ]
  },
  {
   "cell_type": "code",
   "execution_count": 18,
   "id": "dd23415d",
   "metadata": {},
   "outputs": [
    {
     "name": "stdout",
     "output_type": "stream",
     "text": [
      "nana\n"
     ]
    }
   ],
   "source": [
    "print(funtime[-3])"
   ]
  },
  {
   "cell_type": "code",
   "execution_count": 19,
   "id": "6a2d2714",
   "metadata": {},
   "outputs": [
    {
     "name": "stdout",
     "output_type": "stream",
     "text": [
      "Sai\n"
     ]
    }
   ],
   "source": [
    "print(funtime[-6].title())"
   ]
  },
  {
   "cell_type": "code",
   "execution_count": 20,
   "id": "9f9c166f",
   "metadata": {},
   "outputs": [],
   "source": [
    "##slicing of list--->grping"
   ]
  },
  {
   "cell_type": "code",
   "execution_count": 21,
   "id": "e812c10a",
   "metadata": {},
   "outputs": [
    {
     "name": "stdout",
     "output_type": "stream",
     "text": [
      "['sunny', 'sai']\n"
     ]
    }
   ],
   "source": [
    "print(funtime[1:3])"
   ]
  },
  {
   "cell_type": "code",
   "execution_count": 22,
   "id": "ca328aca",
   "metadata": {},
   "outputs": [
    {
     "name": "stdout",
     "output_type": "stream",
     "text": [
      "['vinay', 'sunny', 'sai', 'priya', 'praba', 'nana']\n"
     ]
    }
   ],
   "source": [
    "print(funtime[0:6])"
   ]
  },
  {
   "cell_type": "code",
   "execution_count": 23,
   "id": "9b3a6667",
   "metadata": {},
   "outputs": [],
   "source": [
    "##looping statements --->for loop"
   ]
  },
  {
   "cell_type": "code",
   "execution_count": 24,
   "id": "649464ee",
   "metadata": {},
   "outputs": [
    {
     "name": "stdout",
     "output_type": "stream",
     "text": [
      "['vinay', 'sunny', 'sai', 'priya', 'praba', 'nana', 'harsha', 'amma']\n"
     ]
    }
   ],
   "source": [
    "print(funtime)"
   ]
  },
  {
   "cell_type": "code",
   "execution_count": 25,
   "id": "bebef972",
   "metadata": {},
   "outputs": [
    {
     "name": "stdout",
     "output_type": "stream",
     "text": [
      "vinay\n",
      "sunny\n",
      "sai\n",
      "priya\n",
      "praba\n",
      "nana\n",
      "harsha\n",
      "amma\n"
     ]
    }
   ],
   "source": [
    "for x in funtime:\n",
    "    print(x)"
   ]
  },
  {
   "cell_type": "code",
   "execution_count": 26,
   "id": "51fd7871",
   "metadata": {},
   "outputs": [
    {
     "name": "stdout",
     "output_type": "stream",
     "text": [
      "hello my dear friends\n"
     ]
    }
   ],
   "source": [
    "print(\"hello my dear friends\")"
   ]
  },
  {
   "cell_type": "code",
   "execution_count": 27,
   "id": "c7787636",
   "metadata": {},
   "outputs": [
    {
     "name": "stdout",
     "output_type": "stream",
     "text": [
      "hello my dear friends\n",
      "vinay\n",
      "sunny\n",
      "sai\n",
      "priya\n",
      "praba\n",
      "nana\n",
      "harsha\n",
      "amma\n"
     ]
    }
   ],
   "source": [
    "print(\"hello my dear friends\")\n",
    "for x in funtime:\n",
    "    print(x)"
   ]
  },
  {
   "cell_type": "markdown",
   "id": "c77f00eb",
   "metadata": {},
   "source": [
    "# introduction about tuple"
   ]
  },
  {
   "cell_type": "code",
   "execution_count": 29,
   "id": "3f8779c4",
   "metadata": {},
   "outputs": [
    {
     "ename": "SyntaxError",
     "evalue": "invalid syntax (<ipython-input-29-2f1b4dfd656a>, line 1)",
     "output_type": "error",
     "traceback": [
      "\u001b[1;36m  File \u001b[1;32m\"<ipython-input-29-2f1b4dfd656a>\"\u001b[1;36m, line \u001b[1;32m1\u001b[0m\n\u001b[1;33m    tuple---collection of elements or items\u001b[0m\n\u001b[1;37m                       ^\u001b[0m\n\u001b[1;31mSyntaxError\u001b[0m\u001b[1;31m:\u001b[0m invalid syntax\n"
     ]
    }
   ],
   "source": [
    "tuple---collection of elements or items"
   ]
  },
  {
   "cell_type": "code",
   "execution_count": 30,
   "id": "824c068f",
   "metadata": {
    "scrolled": true
   },
   "outputs": [
    {
     "ename": "SyntaxError",
     "evalue": "invalid syntax (<ipython-input-30-4bdb1b99baab>, line 1)",
     "output_type": "error",
     "traceback": [
      "\u001b[1;36m  File \u001b[1;32m\"<ipython-input-30-4bdb1b99baab>\"\u001b[1;36m, line \u001b[1;32m1\u001b[0m\n\u001b[1;33m    list                                  Tuple\u001b[0m\n\u001b[1;37m                                          ^\u001b[0m\n\u001b[1;31mSyntaxError\u001b[0m\u001b[1;31m:\u001b[0m invalid syntax\n"
     ]
    }
   ],
   "source": [
    "list                                  Tuple\n",
    "[]                                      ()\n",
    "mutable datatype                     immutable datatype\n",
    "[1,u,8.8]                              (1,2,3,4)\n",
    "add\n",
    "delete                                  we cant add new elements\n",
    "update"
   ]
  },
  {
   "cell_type": "code",
   "execution_count": null,
   "id": "d2c67df4",
   "metadata": {},
   "outputs": [],
   "source": [
    "s=['a', 'sri', '3', '4']"
   ]
  },
  {
   "cell_type": "code",
   "execution_count": 32,
   "id": "dda6c661",
   "metadata": {},
   "outputs": [
    {
     "name": "stdout",
     "output_type": "stream",
     "text": [
      "['a', 'sri', '3', '4']\n"
     ]
    }
   ],
   "source": [
    "print(s)"
   ]
  },
  {
   "cell_type": "code",
   "execution_count": 33,
   "id": "6b62d8e0",
   "metadata": {},
   "outputs": [
    {
     "data": {
      "text/plain": [
       "list"
      ]
     },
     "execution_count": 33,
     "metadata": {},
     "output_type": "execute_result"
    }
   ],
   "source": [
    "type(s)"
   ]
  },
  {
   "cell_type": "code",
   "execution_count": null,
   "id": "bb6943c3",
   "metadata": {},
   "outputs": [],
   "source": [
    "## create a tuple\n",
    "### add elements or not\n",
    "### update the elements\n",
    "#### delete the elements\n",
    "#### slicing"
   ]
  },
  {
   "cell_type": "code",
   "execution_count": null,
   "id": "de0e19b4",
   "metadata": {},
   "outputs": [],
   "source": [
    "### how to declare a tuple------------>()"
   ]
  },
  {
   "cell_type": "code",
   "execution_count": null,
   "id": "6c0425f9",
   "metadata": {},
   "outputs": [],
   "source": [
    "tuple_name=value"
   ]
  },
  {
   "cell_type": "code",
   "execution_count": 34,
   "id": "37880d0a",
   "metadata": {},
   "outputs": [],
   "source": [
    "dimensions=(200,40)"
   ]
  },
  {
   "cell_type": "code",
   "execution_count": 35,
   "id": "52da2836",
   "metadata": {},
   "outputs": [
    {
     "name": "stdout",
     "output_type": "stream",
     "text": [
      "(200, 40)\n"
     ]
    }
   ],
   "source": [
    "print(dimensions)"
   ]
  },
  {
   "cell_type": "code",
   "execution_count": 36,
   "id": "dccf5153",
   "metadata": {},
   "outputs": [
    {
     "data": {
      "text/plain": [
       "tuple"
      ]
     },
     "execution_count": 36,
     "metadata": {},
     "output_type": "execute_result"
    }
   ],
   "source": [
    "type(dimensions)"
   ]
  },
  {
   "cell_type": "code",
   "execution_count": 37,
   "id": "bd120e5f",
   "metadata": {},
   "outputs": [
    {
     "ename": "SyntaxError",
     "evalue": "cannot assign to function call (<ipython-input-37-584b2ea987e6>, line 1)",
     "output_type": "error",
     "traceback": [
      "\u001b[1;36m  File \u001b[1;32m\"<ipython-input-37-584b2ea987e6>\"\u001b[1;36m, line \u001b[1;32m1\u001b[0m\n\u001b[1;33m    dimensions(1)=500\u001b[0m\n\u001b[1;37m    ^\u001b[0m\n\u001b[1;31mSyntaxError\u001b[0m\u001b[1;31m:\u001b[0m cannot assign to function call\n"
     ]
    }
   ],
   "source": [
    "dimensions(1)=500"
   ]
  },
  {
   "cell_type": "code",
   "execution_count": 38,
   "id": "30b50a9b",
   "metadata": {},
   "outputs": [
    {
     "ename": "TypeError",
     "evalue": "'tuple' object does not support item assignment",
     "output_type": "error",
     "traceback": [
      "\u001b[1;31m---------------------------------------------------------------------------\u001b[0m",
      "\u001b[1;31mTypeError\u001b[0m                                 Traceback (most recent call last)",
      "\u001b[1;32m<ipython-input-38-80d78da564f6>\u001b[0m in \u001b[0;36m<module>\u001b[1;34m\u001b[0m\n\u001b[1;32m----> 1\u001b[1;33m \u001b[0mdimensions\u001b[0m\u001b[1;33m[\u001b[0m\u001b[1;36m1\u001b[0m\u001b[1;33m]\u001b[0m\u001b[1;33m=\u001b[0m\u001b[1;36m50\u001b[0m\u001b[1;33m\u001b[0m\u001b[1;33m\u001b[0m\u001b[0m\n\u001b[0m",
      "\u001b[1;31mTypeError\u001b[0m: 'tuple' object does not support item assignment"
     ]
    }
   ],
   "source": [
    "dimensions[1]=50"
   ]
  },
  {
   "cell_type": "code",
   "execution_count": 39,
   "id": "582fb39a",
   "metadata": {},
   "outputs": [],
   "source": [
    "dimensions=(200,34,56,78,93)"
   ]
  },
  {
   "cell_type": "code",
   "execution_count": 40,
   "id": "757726c7",
   "metadata": {},
   "outputs": [
    {
     "name": "stdout",
     "output_type": "stream",
     "text": [
      "(200, 34, 56, 78, 93)\n"
     ]
    }
   ],
   "source": [
    "print(dimensions)"
   ]
  },
  {
   "cell_type": "code",
   "execution_count": 41,
   "id": "19e47bd8",
   "metadata": {},
   "outputs": [
    {
     "name": "stdout",
     "output_type": "stream",
     "text": [
      "34\n"
     ]
    }
   ],
   "source": [
    "print(dimensions[1])"
   ]
  },
  {
   "cell_type": "code",
   "execution_count": null,
   "id": "59e4fc66",
   "metadata": {},
   "outputs": [],
   "source": []
  }
 ],
 "metadata": {
  "kernelspec": {
   "display_name": "Python 3",
   "language": "python",
   "name": "python3"
  },
  "language_info": {
   "codemirror_mode": {
    "name": "ipython",
    "version": 3
   },
   "file_extension": ".py",
   "mimetype": "text/x-python",
   "name": "python",
   "nbconvert_exporter": "python",
   "pygments_lexer": "ipython3",
   "version": "3.8.8"
  }
 },
 "nbformat": 4,
 "nbformat_minor": 5
}
