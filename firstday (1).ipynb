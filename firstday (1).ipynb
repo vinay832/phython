{
 "cells": [
  {
   "cell_type": "code",
   "execution_count": 1,
   "id": "093fc69a",
   "metadata": {},
   "outputs": [],
   "source": [
    "full_name='keerthi reddy'"
   ]
  },
  {
   "cell_type": "code",
   "execution_count": 2,
   "id": "e387e2e5",
   "metadata": {},
   "outputs": [
    {
     "name": "stdout",
     "output_type": "stream",
     "text": [
      "keerthi reddy\n"
     ]
    }
   ],
   "source": [
    "print(full_name)"
   ]
  },
  {
   "cell_type": "code",
   "execution_count": 1,
   "id": "711d7386",
   "metadata": {},
   "outputs": [],
   "source": [
    "full_name1='indu'"
   ]
  },
  {
   "cell_type": "code",
   "execution_count": 2,
   "id": "35abe1bf",
   "metadata": {},
   "outputs": [
    {
     "name": "stdout",
     "output_type": "stream",
     "text": [
      "indu\n"
     ]
    }
   ],
   "source": [
    "print(full_name1)"
   ]
  },
  {
   "cell_type": "code",
   "execution_count": 3,
   "id": "72d01a50",
   "metadata": {},
   "outputs": [
    {
     "name": "stdout",
     "output_type": "stream",
     "text": [
      "indu\n"
     ]
    }
   ],
   "source": [
    "print(full_name1.rstrip())"
   ]
  },
  {
   "cell_type": "code",
   "execution_count": 7,
   "id": "57a09817",
   "metadata": {},
   "outputs": [],
   "source": [
    "name=\"   vinay\""
   ]
  },
  {
   "cell_type": "code",
   "execution_count": 8,
   "id": "fde10722",
   "metadata": {},
   "outputs": [
    {
     "name": "stdout",
     "output_type": "stream",
     "text": [
      "   vinay\n"
     ]
    }
   ],
   "source": [
    "print(name)"
   ]
  },
  {
   "cell_type": "code",
   "execution_count": 9,
   "id": "2c3e416d",
   "metadata": {},
   "outputs": [
    {
     "name": "stdout",
     "output_type": "stream",
     "text": [
      "vinay\n"
     ]
    }
   ],
   "source": [
    "print(name.lstrip())"
   ]
  },
  {
   "cell_type": "code",
   "execution_count": 11,
   "id": "24596e47",
   "metadata": {},
   "outputs": [
    {
     "data": {
      "text/plain": [
       "625"
      ]
     },
     "execution_count": 11,
     "metadata": {},
     "output_type": "execute_result"
    }
   ],
   "source": [
    "5**4"
   ]
  },
  {
   "cell_type": "code",
   "execution_count": 12,
   "id": "469f4a9a",
   "metadata": {},
   "outputs": [
    {
     "data": {
      "text/plain": [
       "0"
      ]
     },
     "execution_count": 12,
     "metadata": {},
     "output_type": "execute_result"
    }
   ],
   "source": [
    "6%2"
   ]
  },
  {
   "cell_type": "code",
   "execution_count": 13,
   "id": "9338a928",
   "metadata": {},
   "outputs": [
    {
     "data": {
      "text/plain": [
       "3.0"
      ]
     },
     "execution_count": 13,
     "metadata": {},
     "output_type": "execute_result"
    }
   ],
   "source": [
    "6/2\n"
   ]
  },
  {
   "cell_type": "code",
   "execution_count": 14,
   "id": "877d2acd",
   "metadata": {},
   "outputs": [],
   "source": [
    "y=3+4"
   ]
  },
  {
   "cell_type": "code",
   "execution_count": 15,
   "id": "c8c11040",
   "metadata": {},
   "outputs": [
    {
     "name": "stdout",
     "output_type": "stream",
     "text": [
      "7\n"
     ]
    }
   ],
   "source": [
    "print(y)"
   ]
  },
  {
   "cell_type": "code",
   "execution_count": 16,
   "id": "36c179fe",
   "metadata": {},
   "outputs": [
    {
     "data": {
      "text/plain": [
       "int"
      ]
     },
     "execution_count": 16,
     "metadata": {},
     "output_type": "execute_result"
    }
   ],
   "source": [
    "type(y)"
   ]
  },
  {
   "cell_type": "code",
   "execution_count": 17,
   "id": "e6132b8e",
   "metadata": {},
   "outputs": [],
   "source": [
    "z=2+4.5"
   ]
  },
  {
   "cell_type": "code",
   "execution_count": 18,
   "id": "37a16e89",
   "metadata": {},
   "outputs": [
    {
     "name": "stdout",
     "output_type": "stream",
     "text": [
      "6.5\n"
     ]
    }
   ],
   "source": [
    "print(z)"
   ]
  },
  {
   "cell_type": "code",
   "execution_count": 19,
   "id": "825904c7",
   "metadata": {},
   "outputs": [
    {
     "data": {
      "text/plain": [
       "float"
      ]
     },
     "execution_count": 19,
     "metadata": {},
     "output_type": "execute_result"
    }
   ],
   "source": [
    "type(z)"
   ]
  },
  {
   "cell_type": "code",
   "execution_count": 20,
   "id": "0ede2ab9",
   "metadata": {},
   "outputs": [],
   "source": [
    "a,b,c=1,5,4"
   ]
  },
  {
   "cell_type": "code",
   "execution_count": 21,
   "id": "f4d39439",
   "metadata": {},
   "outputs": [
    {
     "name": "stdout",
     "output_type": "stream",
     "text": [
      "1 5 4\n"
     ]
    }
   ],
   "source": [
    "print(a,b,c)"
   ]
  },
  {
   "cell_type": "code",
   "execution_count": 22,
   "id": "23306c29",
   "metadata": {},
   "outputs": [],
   "source": [
    "fancy=['vinay','sunny','sai','harsha','amma','nana']"
   ]
  },
  {
   "cell_type": "code",
   "execution_count": 23,
   "id": "ae104c46",
   "metadata": {},
   "outputs": [
    {
     "name": "stdout",
     "output_type": "stream",
     "text": [
      "['vinay', 'sunny', 'sai', 'harsha', 'amma', 'nana']\n"
     ]
    }
   ],
   "source": [
    "print(fancy)"
   ]
  },
  {
   "cell_type": "code",
   "execution_count": 24,
   "id": "c5c81400",
   "metadata": {},
   "outputs": [
    {
     "ename": "AttributeError",
     "evalue": "'list' object has no attribute 'upper'",
     "output_type": "error",
     "traceback": [
      "\u001b[1;31m---------------------------------------------------------------------------\u001b[0m",
      "\u001b[1;31mAttributeError\u001b[0m                            Traceback (most recent call last)",
      "\u001b[1;32m<ipython-input-24-36a4e07228d0>\u001b[0m in \u001b[0;36m<module>\u001b[1;34m\u001b[0m\n\u001b[1;32m----> 1\u001b[1;33m \u001b[0mprint\u001b[0m\u001b[1;33m(\u001b[0m\u001b[0mfancy\u001b[0m\u001b[1;33m.\u001b[0m\u001b[0mupper\u001b[0m\u001b[1;33m(\u001b[0m\u001b[1;33m)\u001b[0m\u001b[1;33m)\u001b[0m\u001b[1;33m\u001b[0m\u001b[1;33m\u001b[0m\u001b[0m\n\u001b[0m",
      "\u001b[1;31mAttributeError\u001b[0m: 'list' object has no attribute 'upper'"
     ]
    }
   ],
   "source": [
    "print(fancy.upper())"
   ]
  },
  {
   "cell_type": "code",
   "execution_count": 25,
   "id": "2c006b70",
   "metadata": {},
   "outputs": [
    {
     "name": "stdout",
     "output_type": "stream",
     "text": [
      "SUNNY\n"
     ]
    }
   ],
   "source": [
    "print(fancy[1].upper())"
   ]
  },
  {
   "cell_type": "code",
   "execution_count": 26,
   "id": "e96dc3a9",
   "metadata": {},
   "outputs": [
    {
     "name": "stdout",
     "output_type": "stream",
     "text": [
      "Harsha\n"
     ]
    }
   ],
   "source": [
    "print(fancy[3].title())"
   ]
  },
  {
   "cell_type": "code",
   "execution_count": 30,
   "id": "f8967060",
   "metadata": {},
   "outputs": [],
   "source": [
    "fancy.append('praba')"
   ]
  },
  {
   "cell_type": "code",
   "execution_count": 31,
   "id": "fa829361",
   "metadata": {},
   "outputs": [
    {
     "name": "stdout",
     "output_type": "stream",
     "text": [
      "['vinay', 'sunny', 'sai', 'harsha', 'amma', 'nana', 'praba']\n"
     ]
    }
   ],
   "source": [
    "print(fancy)"
   ]
  },
  {
   "cell_type": "code",
   "execution_count": 32,
   "id": "d12f804c",
   "metadata": {},
   "outputs": [
    {
     "ename": "TypeError",
     "evalue": "append() takes exactly one argument (2 given)",
     "output_type": "error",
     "traceback": [
      "\u001b[1;31m---------------------------------------------------------------------------\u001b[0m",
      "\u001b[1;31mTypeError\u001b[0m                                 Traceback (most recent call last)",
      "\u001b[1;32m<ipython-input-32-ec1137ca69b3>\u001b[0m in \u001b[0;36m<module>\u001b[1;34m\u001b[0m\n\u001b[1;32m----> 1\u001b[1;33m \u001b[0mfancy\u001b[0m\u001b[1;33m.\u001b[0m\u001b[0mappend\u001b[0m\u001b[1;33m(\u001b[0m\u001b[1;36m3\u001b[0m\u001b[1;33m,\u001b[0m\u001b[1;34m'priya'\u001b[0m\u001b[1;33m)\u001b[0m\u001b[1;33m\u001b[0m\u001b[1;33m\u001b[0m\u001b[0m\n\u001b[0m",
      "\u001b[1;31mTypeError\u001b[0m: append() takes exactly one argument (2 given)"
     ]
    }
   ],
   "source": [
    "fancy.append(3,'priya')"
   ]
  },
  {
   "cell_type": "code",
   "execution_count": 33,
   "id": "9de15fd7",
   "metadata": {},
   "outputs": [
    {
     "name": "stdout",
     "output_type": "stream",
     "text": [
      "['vinay', 'sunny', 'sai', 'harsha', 'amma', 'nana', 'praba']\n"
     ]
    }
   ],
   "source": [
    "print(fancy)"
   ]
  },
  {
   "cell_type": "code",
   "execution_count": 34,
   "id": "fe72c33a",
   "metadata": {},
   "outputs": [],
   "source": [
    "fancy.insert(2,'priya')"
   ]
  },
  {
   "cell_type": "code",
   "execution_count": 35,
   "id": "ea1e7d38",
   "metadata": {},
   "outputs": [
    {
     "name": "stdout",
     "output_type": "stream",
     "text": [
      "['vinay', 'sunny', 'priya', 'sai', 'harsha', 'amma', 'nana', 'praba']\n"
     ]
    }
   ],
   "source": [
    "print(fancy)"
   ]
  },
  {
   "cell_type": "code",
   "execution_count": null,
   "id": "62d9a4e2",
   "metadata": {},
   "outputs": [],
   "source": [
    "##updating the elements to the list"
   ]
  },
  {
   "cell_type": "code",
   "execution_count": 36,
   "id": "3b33fb11",
   "metadata": {},
   "outputs": [],
   "source": [
    "fancy[1]='guru'"
   ]
  },
  {
   "cell_type": "code",
   "execution_count": 37,
   "id": "e25dd7cc",
   "metadata": {},
   "outputs": [
    {
     "name": "stdout",
     "output_type": "stream",
     "text": [
      "['vinay', 'guru', 'priya', 'sai', 'harsha', 'amma', 'nana', 'praba']\n"
     ]
    }
   ],
   "source": [
    "print(fancy)"
   ]
  },
  {
   "cell_type": "code",
   "execution_count": 38,
   "id": "7685a028",
   "metadata": {},
   "outputs": [
    {
     "ename": "SyntaxError",
     "evalue": "invalid syntax (<ipython-input-38-8de63ec18b67>, line 1)",
     "output_type": "error",
     "traceback": [
      "\u001b[1;36m  File \u001b[1;32m\"<ipython-input-38-8de63ec18b67>\"\u001b[1;36m, line \u001b[1;32m1\u001b[0m\n\u001b[1;33m    $$delete the elements\u001b[0m\n\u001b[1;37m    ^\u001b[0m\n\u001b[1;31mSyntaxError\u001b[0m\u001b[1;31m:\u001b[0m invalid syntax\n"
     ]
    }
   ],
   "source": [
    "$$delete the elements"
   ]
  },
  {
   "cell_type": "code",
   "execution_count": 39,
   "id": "8b1e68ff",
   "metadata": {},
   "outputs": [
    {
     "data": {
      "text/plain": [
       "'guru'"
      ]
     },
     "execution_count": 39,
     "metadata": {},
     "output_type": "execute_result"
    }
   ],
   "source": [
    "fancy.pop(1)"
   ]
  },
  {
   "cell_type": "code",
   "execution_count": 40,
   "id": "8b583661",
   "metadata": {},
   "outputs": [
    {
     "name": "stdout",
     "output_type": "stream",
     "text": [
      "['vinay', 'priya', 'sai', 'harsha', 'amma', 'nana', 'praba']\n"
     ]
    }
   ],
   "source": [
    "print(fancy)"
   ]
  },
  {
   "cell_type": "code",
   "execution_count": null,
   "id": "9db812d7",
   "metadata": {},
   "outputs": [],
   "source": []
  },
  {
   "cell_type": "code",
   "execution_count": null,
   "id": "3cb9c15e",
   "metadata": {},
   "outputs": [],
   "source": []
  },
  {
   "cell_type": "code",
   "execution_count": null,
   "id": "20f5f86f",
   "metadata": {},
   "outputs": [],
   "source": []
  }
 ],
 "metadata": {
  "kernelspec": {
   "display_name": "Python 3",
   "language": "python",
   "name": "python3"
  },
  "language_info": {
   "codemirror_mode": {
    "name": "ipython",
    "version": 3
   },
   "file_extension": ".py",
   "mimetype": "text/x-python",
   "name": "python",
   "nbconvert_exporter": "python",
   "pygments_lexer": "ipython3",
   "version": "3.8.8"
  }
 },
 "nbformat": 4,
 "nbformat_minor": 5
}
