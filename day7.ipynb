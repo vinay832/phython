{
 "cells": [
  {
   "cell_type": "code",
   "execution_count": null,
   "id": "15c3341c",
   "metadata": {},
   "outputs": [],
   "source": [
    "ex--->"
   ]
  },
  {
   "cell_type": "code",
   "execution_count": 5,
   "id": "dd407ac9",
   "metadata": {},
   "outputs": [],
   "source": [
    "def test():\n",
    "    f_name='vinay'\n",
    "    l_name='kompalli'\n",
    "    print(f\"my name is {f_name.upper()} {l_name.upper()}\")"
   ]
  },
  {
   "cell_type": "code",
   "execution_count": 6,
   "id": "81556e99",
   "metadata": {},
   "outputs": [
    {
     "name": "stdout",
     "output_type": "stream",
     "text": [
      "my name is VINAY KOMPALLI\n"
     ]
    }
   ],
   "source": [
    "test()"
   ]
  },
  {
   "cell_type": "code",
   "execution_count": null,
   "id": "ef042d26",
   "metadata": {},
   "outputs": [],
   "source": [
    "##preparing food items"
   ]
  },
  {
   "cell_type": "markdown",
   "id": "00cfc42d",
   "metadata": {},
   "source": [
    "# introduction to arguments"
   ]
  },
  {
   "cell_type": "code",
   "execution_count": null,
   "id": "9c91a99b",
   "metadata": {},
   "outputs": [],
   "source": [
    "arg--inputs given to the function\n",
    "#it is optional need not be written every time"
   ]
  },
  {
   "cell_type": "code",
   "execution_count": null,
   "id": "d46ecaa3",
   "metadata": {},
   "outputs": [],
   "source": [
    "1.positional arguments\n",
    "2.required arguments\n",
    "3.default arguments\n",
    "4.keyword arguments"
   ]
  },
  {
   "cell_type": "code",
   "execution_count": null,
   "id": "70fc46a9",
   "metadata": {},
   "outputs": [],
   "source": [
    "##1.positional arguments"
   ]
  },
  {
   "cell_type": "code",
   "execution_count": null,
   "id": "1d33d27b",
   "metadata": {},
   "outputs": [],
   "source": [
    "##no of arg must be same in functional defination and function calling we have to follow order"
   ]
  },
  {
   "cell_type": "code",
   "execution_count": null,
   "id": "55255c29",
   "metadata": {},
   "outputs": [],
   "source": [
    "##describe a animal------------->i have a cat\n",
    "                                 my cat name is kity         (a,b)---------->(a,b) (b,a)"
   ]
  },
  {
   "cell_type": "code",
   "execution_count": 7,
   "id": "df10b47f",
   "metadata": {},
   "outputs": [],
   "source": [
    "def describe_pets(animal_type,pet_name):\n",
    "    print(f\"\\n i have a {animal_type}\")\n",
    "    print(f\"my {animal_type} name is {pet_name.title()}\")"
   ]
  },
  {
   "cell_type": "code",
   "execution_count": 8,
   "id": "e2443b87",
   "metadata": {},
   "outputs": [
    {
     "name": "stdout",
     "output_type": "stream",
     "text": [
      "\n",
      " i have a dog\n",
      "my dog name is Bruno\n"
     ]
    }
   ],
   "source": [
    "describe_pets('dog','bruno') ##meaning full execution when we pass in correct order"
   ]
  },
  {
   "cell_type": "code",
   "execution_count": 9,
   "id": "add4db0a",
   "metadata": {},
   "outputs": [
    {
     "name": "stdout",
     "output_type": "stream",
     "text": [
      "\n",
      " i have a bruno\n",
      "my bruno name is Dog\n"
     ]
    }
   ],
   "source": [
    "describe_pets('bruno','dog') ##meaning less execution when we pass in correct order"
   ]
  },
  {
   "cell_type": "code",
   "execution_count": 10,
   "id": "a751b749",
   "metadata": {},
   "outputs": [],
   "source": [
    "def display(a,b):\n",
    "    print(a,b)\n",
    "    display(b=30,a=40)"
   ]
  },
  {
   "cell_type": "code",
   "execution_count": 11,
   "id": "64f599b3",
   "metadata": {},
   "outputs": [
    {
     "data": {
      "text/plain": [
       "(30, 40)"
      ]
     },
     "execution_count": 11,
     "metadata": {},
     "output_type": "execute_result"
    }
   ],
   "source": [
    "(30,40)"
   ]
  },
  {
   "cell_type": "code",
   "execution_count": null,
   "id": "822a10a6",
   "metadata": {},
   "outputs": [],
   "source": [
    "##2.default arguments"
   ]
  },
  {
   "cell_type": "code",
   "execution_count": null,
   "id": "69bc903d",
   "metadata": {},
   "outputs": [],
   "source": [
    "##no of args need not to be matched with function def and function calling"
   ]
  },
  {
   "cell_type": "code",
   "execution_count": 13,
   "id": "5cfde0b6",
   "metadata": {},
   "outputs": [],
   "source": [
    "def describe_pets(animal_type,pet_name='pinky'):\n",
    "    print(f\"\\n i have a {animal_type}\")\n",
    "    print(f\"my {animal_type} name is {pet_name.title()}\")"
   ]
  },
  {
   "cell_type": "code",
   "execution_count": 15,
   "id": "fbd39667",
   "metadata": {},
   "outputs": [
    {
     "name": "stdout",
     "output_type": "stream",
     "text": [
      "\n",
      " i have a dog\n",
      "my dog name is Pinky\n"
     ]
    }
   ],
   "source": [
    "describe_pets('dog')"
   ]
  },
  {
   "cell_type": "code",
   "execution_count": null,
   "id": "7086b1d0",
   "metadata": {},
   "outputs": [],
   "source": [
    "##4.keyword arguments"
   ]
  },
  {
   "cell_type": "code",
   "execution_count": 16,
   "id": "69c77a01",
   "metadata": {},
   "outputs": [],
   "source": [
    "def describe_pets(animal_type,pet_name):\n",
    "    print(f\"\\n i have a {animal_type}\")\n",
    "    print(f\"my {animal_type} name is {pet_name.title()}\")"
   ]
  },
  {
   "cell_type": "code",
   "execution_count": 17,
   "id": "e90408ec",
   "metadata": {},
   "outputs": [
    {
     "name": "stdout",
     "output_type": "stream",
     "text": [
      "\n",
      " i have a snake\n",
      "my snake name is Reqrous\n"
     ]
    }
   ],
   "source": [
    "describe_pets(animal_type='snake',pet_name='reqrous')"
   ]
  },
  {
   "cell_type": "code",
   "execution_count": null,
   "id": "728eac03",
   "metadata": {},
   "outputs": [],
   "source": [
    "##prepare a sandwich by using functions"
   ]
  },
  {
   "cell_type": "code",
   "execution_count": 26,
   "id": "f22e955e",
   "metadata": {},
   "outputs": [],
   "source": [
    "def make_sandwich(item1,item2,item3):\n",
    "  print('sandwich is preparing for you')\n",
    "  print(f\"adding {item1} to sandwich\")\n",
    "  print(f\"adding {item2} to sandwich\")\n",
    "  print(f\"adding {item3} to sandwich\")\n",
    "  print('sandwich is prepared\\n')"
   ]
  },
  {
   "cell_type": "code",
   "execution_count": 27,
   "id": "6abfa6d0",
   "metadata": {},
   "outputs": [
    {
     "name": "stdout",
     "output_type": "stream",
     "text": [
      "sandwich is preparing for you\n",
      "adding aloo to sandwich\n",
      "adding pasta to sandwich\n",
      "adding sawww to sandwich\n",
      "sandwich is prepared\n",
      "\n",
      "sandwich is preparing for you\n",
      "adding powder to sandwich\n",
      "adding paste to sandwich\n",
      "adding senn to sandwich\n",
      "sandwich is prepared\n",
      "\n",
      "sandwich is preparing for you\n",
      "adding pepper to sandwich\n",
      "adding nuts to sandwich\n",
      "adding veggies to sandwich\n",
      "sandwich is prepared\n",
      "\n"
     ]
    }
   ],
   "source": [
    "make_sandwich('aloo','pasta','sawww')\n",
    "make_sandwich('powder','paste','senn')\n",
    "make_sandwich('pepper','nuts','veggies')"
   ]
  },
  {
   "cell_type": "code",
   "execution_count": null,
   "id": "91f43cdc",
   "metadata": {},
   "outputs": [],
   "source": []
  }
 ],
 "metadata": {
  "kernelspec": {
   "display_name": "Python 3",
   "language": "python",
   "name": "python3"
  },
  "language_info": {
   "codemirror_mode": {
    "name": "ipython",
    "version": 3
   },
   "file_extension": ".py",
   "mimetype": "text/x-python",
   "name": "python",
   "nbconvert_exporter": "python",
   "pygments_lexer": "ipython3",
   "version": "3.8.8"
  }
 },
 "nbformat": 4,
 "nbformat_minor": 5
}
