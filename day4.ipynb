{
 "cells": [
  {
   "cell_type": "markdown",
   "id": "4e0ac0ce",
   "metadata": {},
   "source": [
    "# DICTIONARY DATATYPE "
   ]
  },
  {
   "cell_type": "code",
   "execution_count": null,
   "id": "6d571bc4",
   "metadata": {},
   "outputs": [],
   "source": [
    "**Dictionary------>dict\n",
    "\n",
    "*** Dict is going to store values in key:value pairs\n",
    "\n",
    "*** it is going to declare in {}"
   ]
  },
  {
   "cell_type": "code",
   "execution_count": null,
   "id": "48b71b5a",
   "metadata": {},
   "outputs": [],
   "source": [
    "ex---name='vinay'\n",
    "     key    value\n",
    "\n",
    "a=13\n",
    "k  v"
   ]
  },
  {
   "cell_type": "code",
   "execution_count": null,
   "id": "74332d61",
   "metadata": {},
   "outputs": [],
   "source": [
    "name:'manoj'"
   ]
  },
  {
   "cell_type": "code",
   "execution_count": null,
   "id": "7c3648e7",
   "metadata": {},
   "outputs": [],
   "source": [
    "## facebook application\n",
    "\n",
    "username='user1'\n",
    "first_name='abc'\n",
    "last_name='xyz'\n",
    "mailid--->abc@gmail.com\n",
    "dob------->12051999\n",
    "pwd---->12345"
   ]
  },
  {
   "cell_type": "code",
   "execution_count": null,
   "id": "c1bc2fb2",
   "metadata": {},
   "outputs": [],
   "source": [
    "keys----->username,pwd,firstname,lastname,mailid,dob\n",
    "value----->user1,abc,xyz,abc@gmail.com ,12346"
   ]
  },
  {
   "cell_type": "code",
   "execution_count": null,
   "id": "10cac805",
   "metadata": {},
   "outputs": [],
   "source": [
    "### declaring a dict"
   ]
  },
  {
   "cell_type": "code",
   "execution_count": 1,
   "id": "9886602f",
   "metadata": {},
   "outputs": [],
   "source": [
    "s={'name':'raju','branch':'eee','rno':1234}"
   ]
  },
  {
   "cell_type": "code",
   "execution_count": 3,
   "id": "775f5d8f",
   "metadata": {},
   "outputs": [
    {
     "name": "stdout",
     "output_type": "stream",
     "text": [
      "{'name': 'raju', 'branch': 'eee', 'rno': 1234}\n"
     ]
    }
   ],
   "source": [
    "print(s)"
   ]
  },
  {
   "cell_type": "code",
   "execution_count": null,
   "id": "85c6f8f2",
   "metadata": {},
   "outputs": [],
   "source": [
    "keys---------------->name,branch,rno\n",
    "values--------------->raju,eee,1234"
   ]
  },
  {
   "cell_type": "code",
   "execution_count": 4,
   "id": "8638c71f",
   "metadata": {},
   "outputs": [
    {
     "data": {
      "text/plain": [
       "dict"
      ]
     },
     "execution_count": 4,
     "metadata": {},
     "output_type": "execute_result"
    }
   ],
   "source": [
    "type(s)"
   ]
  },
  {
   "cell_type": "code",
   "execution_count": null,
   "id": "fc9d5749",
   "metadata": {},
   "outputs": [],
   "source": [
    "## Adding\n",
    "### updating\n",
    "### delete"
   ]
  },
  {
   "cell_type": "code",
   "execution_count": 5,
   "id": "b9c02014",
   "metadata": {},
   "outputs": [],
   "source": [
    "s['hey']='vinay'                ## Adding the elements"
   ]
  },
  {
   "cell_type": "code",
   "execution_count": 6,
   "id": "e0f5fabc",
   "metadata": {},
   "outputs": [
    {
     "name": "stdout",
     "output_type": "stream",
     "text": [
      "{'name': 'raju', 'branch': 'eee', 'rno': 1234, 'hey': 'vinay'}\n"
     ]
    }
   ],
   "source": [
    "print(s)"
   ]
  },
  {
   "cell_type": "code",
   "execution_count": 7,
   "id": "5c76a6ad",
   "metadata": {},
   "outputs": [],
   "source": [
    "s['mad']=9990"
   ]
  },
  {
   "cell_type": "code",
   "execution_count": 8,
   "id": "f0844f54",
   "metadata": {},
   "outputs": [
    {
     "name": "stdout",
     "output_type": "stream",
     "text": [
      "{'name': 'raju', 'branch': 'eee', 'rno': 1234, 'hey': 'vinay', 'mad': 9990}\n"
     ]
    }
   ],
   "source": [
    "print(s)"
   ]
  },
  {
   "cell_type": "code",
   "execution_count": 9,
   "id": "87d293d3",
   "metadata": {},
   "outputs": [
    {
     "data": {
      "text/plain": [
       "dict"
      ]
     },
     "execution_count": 9,
     "metadata": {},
     "output_type": "execute_result"
    }
   ],
   "source": [
    "type(s)"
   ]
  },
  {
   "cell_type": "code",
   "execution_count": null,
   "id": "e609c644",
   "metadata": {},
   "outputs": [],
   "source": [
    "### updating elements"
   ]
  },
  {
   "cell_type": "code",
   "execution_count": 10,
   "id": "ce96d3f1",
   "metadata": {},
   "outputs": [],
   "source": [
    "s['name']='sunny'"
   ]
  },
  {
   "cell_type": "code",
   "execution_count": 11,
   "id": "c9479312",
   "metadata": {},
   "outputs": [
    {
     "name": "stdout",
     "output_type": "stream",
     "text": [
      "{'name': 'sunny', 'branch': 'eee', 'rno': 1234, 'hey': 'vinay', 'mad': 9990}\n"
     ]
    }
   ],
   "source": [
    "print(s)"
   ]
  },
  {
   "cell_type": "code",
   "execution_count": 12,
   "id": "e7c1288d",
   "metadata": {},
   "outputs": [
    {
     "ename": "KeyError",
     "evalue": "'eee'",
     "output_type": "error",
     "traceback": [
      "\u001b[1;31m---------------------------------------------------------------------------\u001b[0m",
      "\u001b[1;31mKeyError\u001b[0m                                  Traceback (most recent call last)",
      "\u001b[1;32m<ipython-input-12-fb2bdc30189c>\u001b[0m in \u001b[0;36m<module>\u001b[1;34m\u001b[0m\n\u001b[1;32m----> 1\u001b[1;33m \u001b[0ms\u001b[0m\u001b[1;33m[\u001b[0m\u001b[1;34m'eee'\u001b[0m\u001b[1;33m]\u001b[0m\u001b[1;33m\u001b[0m\u001b[1;33m\u001b[0m\u001b[0m\n\u001b[0m",
      "\u001b[1;31mKeyError\u001b[0m: 'eee'"
     ]
    }
   ],
   "source": [
    "s['eee']"
   ]
  },
  {
   "cell_type": "code",
   "execution_count": 13,
   "id": "060af05f",
   "metadata": {},
   "outputs": [
    {
     "data": {
      "text/plain": [
       "'eee'"
      ]
     },
     "execution_count": 13,
     "metadata": {},
     "output_type": "execute_result"
    }
   ],
   "source": [
    "s['branch']                  ## we can access the elements by giving keys---but values to key it cant"
   ]
  },
  {
   "cell_type": "code",
   "execution_count": null,
   "id": "6e6619f8",
   "metadata": {},
   "outputs": [],
   "source": [
    "### delete the dict"
   ]
  },
  {
   "cell_type": "code",
   "execution_count": null,
   "id": "746e4522",
   "metadata": {},
   "outputs": [],
   "source": [
    "del\n",
    "pop\n",
    "remove"
   ]
  },
  {
   "cell_type": "code",
   "execution_count": 14,
   "id": "a9942ec0",
   "metadata": {},
   "outputs": [
    {
     "name": "stdout",
     "output_type": "stream",
     "text": [
      "{'name': 'sunny', 'branch': 'eee', 'rno': 1234, 'hey': 'vinay', 'mad': 9990}\n"
     ]
    }
   ],
   "source": [
    "print(s)"
   ]
  },
  {
   "cell_type": "code",
   "execution_count": 15,
   "id": "b6b86095",
   "metadata": {},
   "outputs": [],
   "source": [
    "g=s"
   ]
  },
  {
   "cell_type": "code",
   "execution_count": 16,
   "id": "102c4990",
   "metadata": {},
   "outputs": [
    {
     "name": "stdout",
     "output_type": "stream",
     "text": [
      "{'name': 'sunny', 'branch': 'eee', 'rno': 1234, 'hey': 'vinay', 'mad': 9990}\n"
     ]
    }
   ],
   "source": [
    "print(g)"
   ]
  },
  {
   "cell_type": "code",
   "execution_count": 17,
   "id": "ff8da418",
   "metadata": {},
   "outputs": [],
   "source": [
    "del s"
   ]
  },
  {
   "cell_type": "code",
   "execution_count": 18,
   "id": "73ee2b78",
   "metadata": {},
   "outputs": [
    {
     "ename": "NameError",
     "evalue": "name 's' is not defined",
     "output_type": "error",
     "traceback": [
      "\u001b[1;31m---------------------------------------------------------------------------\u001b[0m",
      "\u001b[1;31mNameError\u001b[0m                                 Traceback (most recent call last)",
      "\u001b[1;32m<ipython-input-18-0ff1b7208845>\u001b[0m in \u001b[0;36m<module>\u001b[1;34m\u001b[0m\n\u001b[1;32m----> 1\u001b[1;33m \u001b[0mprint\u001b[0m\u001b[1;33m(\u001b[0m\u001b[0ms\u001b[0m\u001b[1;33m)\u001b[0m\u001b[1;33m\u001b[0m\u001b[1;33m\u001b[0m\u001b[0m\n\u001b[0m",
      "\u001b[1;31mNameError\u001b[0m: name 's' is not defined"
     ]
    }
   ],
   "source": [
    "print(s)"
   ]
  },
  {
   "cell_type": "code",
   "execution_count": 19,
   "id": "7a3d7530",
   "metadata": {},
   "outputs": [
    {
     "data": {
      "text/plain": [
       "{'name': 'sunny', 'branch': 'eee', 'rno': 1234, 'hey': 'vinay', 'mad': 9990}"
      ]
     },
     "execution_count": 19,
     "metadata": {},
     "output_type": "execute_result"
    }
   ],
   "source": [
    "g"
   ]
  },
  {
   "cell_type": "code",
   "execution_count": null,
   "id": "702194f8",
   "metadata": {},
   "outputs": [],
   "source": [
    "clear ------------------>it is going to delete all the elements"
   ]
  },
  {
   "cell_type": "code",
   "execution_count": 20,
   "id": "3698b992",
   "metadata": {},
   "outputs": [
    {
     "name": "stdout",
     "output_type": "stream",
     "text": [
      "{'name': 'sunny', 'branch': 'eee', 'rno': 1234, 'hey': 'vinay', 'mad': 9990}\n"
     ]
    }
   ],
   "source": [
    "print(g)"
   ]
  },
  {
   "cell_type": "code",
   "execution_count": 21,
   "id": "ff8a7d24",
   "metadata": {},
   "outputs": [],
   "source": [
    "g.clear()"
   ]
  },
  {
   "cell_type": "code",
   "execution_count": 22,
   "id": "966a481e",
   "metadata": {},
   "outputs": [
    {
     "name": "stdout",
     "output_type": "stream",
     "text": [
      "{}\n"
     ]
    }
   ],
   "source": [
    "print(g)"
   ]
  },
  {
   "cell_type": "code",
   "execution_count": null,
   "id": "d2e33af8",
   "metadata": {},
   "outputs": [],
   "source": []
  },
  {
   "cell_type": "code",
   "execution_count": null,
   "id": "51e9ec61",
   "metadata": {},
   "outputs": [],
   "source": []
  }
 ],
 "metadata": {
  "kernelspec": {
   "display_name": "Python 3",
   "language": "python",
   "name": "python3"
  },
  "language_info": {
   "codemirror_mode": {
    "name": "ipython",
    "version": 3
   },
   "file_extension": ".py",
   "mimetype": "text/x-python",
   "name": "python",
   "nbconvert_exporter": "python",
   "pygments_lexer": "ipython3",
   "version": "3.8.8"
  }
 },
 "nbformat": 4,
 "nbformat_minor": 5
}
