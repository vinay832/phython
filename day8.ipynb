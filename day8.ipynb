{
 "cells": [
  {
   "cell_type": "code",
   "execution_count": null,
   "id": "d0a5da83",
   "metadata": {},
   "outputs": [],
   "source": [
    "#arbitary arguments                 define def"
   ]
  },
  {
   "cell_type": "code",
   "execution_count": 5,
   "id": "0ddfcbff",
   "metadata": {},
   "outputs": [],
   "source": [
    "def greet(*msg):              # *stars allows you to pass more inputs and get output\n",
    "    for m in msg:\n",
    "        print(m)"
   ]
  },
  {
   "cell_type": "code",
   "execution_count": 6,
   "id": "bbd02b0d",
   "metadata": {},
   "outputs": [
    {
     "name": "stdout",
     "output_type": "stream",
     "text": [
      "hai\n",
      "ff\n",
      "ddd\n",
      "mgf\n"
     ]
    }
   ],
   "source": [
    "greet('hai','ff','ddd','mgf')"
   ]
  },
  {
   "cell_type": "markdown",
   "id": "792c589a",
   "metadata": {},
   "source": [
    "# introduction to oops/// class"
   ]
  },
  {
   "cell_type": "code",
   "execution_count": null,
   "id": "13a3042b",
   "metadata": {},
   "outputs": [],
   "source": [
    "what is oops------------->obj oriented prg systems\n",
    "class--->class is nothing but a blue print of set of instructions which to be followed and executed"
   ]
  },
  {
   "cell_type": "code",
   "execution_count": null,
   "id": "56763486",
   "metadata": {},
   "outputs": [],
   "source": [
    "a,b\n",
    "a=2,b=3\n",
    "c=a+b"
   ]
  },
  {
   "cell_type": "code",
   "execution_count": null,
   "id": "0cd873a4",
   "metadata": {},
   "outputs": [],
   "source": [
    "class-------------->1.attributes/variables/data\n",
    "                    2.functions"
   ]
  },
  {
   "cell_type": "code",
   "execution_count": null,
   "id": "84f667f9",
   "metadata": {},
   "outputs": [],
   "source": [
    "##how to write a class"
   ]
  },
  {
   "cell_type": "code",
   "execution_count": null,
   "id": "a0d24b1b",
   "metadata": {},
   "outputs": [],
   "source": [
    "class classname():\n",
    "    data\n",
    "    functions"
   ]
  },
  {
   "cell_type": "code",
   "execution_count": null,
   "id": "e56b5b2d",
   "metadata": {},
   "outputs": [],
   "source": [
    "object:accesing the variable and function\n",
    "    object_name=class_name()"
   ]
  },
  {
   "cell_type": "code",
   "execution_count": 14,
   "id": "894605e4",
   "metadata": {},
   "outputs": [],
   "source": [
    "class example():\n",
    "    x=1\n",
    "    y=3"
   ]
  },
  {
   "cell_type": "code",
   "execution_count": 15,
   "id": "ce848786",
   "metadata": {},
   "outputs": [],
   "source": [
    "obj=example()"
   ]
  },
  {
   "cell_type": "code",
   "execution_count": 16,
   "id": "ec1ef5b4",
   "metadata": {},
   "outputs": [
    {
     "data": {
      "text/plain": [
       "1"
      ]
     },
     "execution_count": 16,
     "metadata": {},
     "output_type": "execute_result"
    }
   ],
   "source": [
    "obj.x"
   ]
  },
  {
   "cell_type": "code",
   "execution_count": 17,
   "id": "e45cee7a",
   "metadata": {},
   "outputs": [
    {
     "data": {
      "text/plain": [
       "3"
      ]
     },
     "execution_count": 17,
     "metadata": {},
     "output_type": "execute_result"
    }
   ],
   "source": [
    "obj.y"
   ]
  },
  {
   "cell_type": "code",
   "execution_count": null,
   "id": "2f846a98",
   "metadata": {},
   "outputs": [],
   "source": [
    "##another way of execution "
   ]
  },
  {
   "cell_type": "code",
   "execution_count": 18,
   "id": "0364f233",
   "metadata": {},
   "outputs": [
    {
     "name": "stdout",
     "output_type": "stream",
     "text": [
      "1\n"
     ]
    }
   ],
   "source": [
    "print(obj.x)"
   ]
  },
  {
   "cell_type": "code",
   "execution_count": 19,
   "id": "a3f1acc3",
   "metadata": {},
   "outputs": [
    {
     "name": "stdout",
     "output_type": "stream",
     "text": [
      "3\n"
     ]
    }
   ],
   "source": [
    "print(obj.y)"
   ]
  },
  {
   "cell_type": "code",
   "execution_count": null,
   "id": "caf6b03c",
   "metadata": {},
   "outputs": [],
   "source": [
    "example 2:"
   ]
  },
  {
   "cell_type": "code",
   "execution_count": null,
   "id": "9885573e",
   "metadata": {},
   "outputs": [],
   "source": [
    "##self------------>a temporary place holder"
   ]
  },
  {
   "cell_type": "code",
   "execution_count": 23,
   "id": "6c51c2c2",
   "metadata": {},
   "outputs": [],
   "source": [
    "class student:\n",
    "    rno=123\n",
    "    name=\"abc\"------------>data\n",
    "    branch=\"ece\"\n",
    "    def show(self):\n",
    "        print(\"how are you\")\n",
    "    def read(self):-------->function\n",
    "        print(\"good to see you\")"
   ]
  },
  {
   "cell_type": "code",
   "execution_count": 24,
   "id": "97d71eab",
   "metadata": {},
   "outputs": [],
   "source": [
    "s1=student()=========================>creating a object s1 for accesing the data and function"
   ]
  },
  {
   "cell_type": "code",
   "execution_count": 25,
   "id": "42a61ccd",
   "metadata": {},
   "outputs": [
    {
     "data": {
      "text/plain": [
       "123"
      ]
     },
     "execution_count": 25,
     "metadata": {},
     "output_type": "execute_result"
    }
   ],
   "source": [
    "s1.rno"
   ]
  },
  {
   "cell_type": "code",
   "execution_count": 26,
   "id": "5cdaee8c",
   "metadata": {},
   "outputs": [
    {
     "data": {
      "text/plain": [
       "'ece'"
      ]
     },
     "execution_count": 26,
     "metadata": {},
     "output_type": "execute_result"
    }
   ],
   "source": [
    "s1.branch"
   ]
  },
  {
   "cell_type": "code",
   "execution_count": 27,
   "id": "09a46202",
   "metadata": {},
   "outputs": [
    {
     "data": {
      "text/plain": [
       "'abc'"
      ]
     },
     "execution_count": 27,
     "metadata": {},
     "output_type": "execute_result"
    }
   ],
   "source": [
    "s1.rno\n",
    "s1.branch\n",
    "s1.name"
   ]
  },
  {
   "cell_type": "code",
   "execution_count": 28,
   "id": "fc4d1186",
   "metadata": {},
   "outputs": [
    {
     "name": "stdout",
     "output_type": "stream",
     "text": [
      "how are you\n"
     ]
    }
   ],
   "source": [
    "s1.show()"
   ]
  },
  {
   "cell_type": "code",
   "execution_count": 29,
   "id": "6323dc0d",
   "metadata": {},
   "outputs": [
    {
     "name": "stdout",
     "output_type": "stream",
     "text": [
      "good to see you\n"
     ]
    }
   ],
   "source": [
    "s1.read()"
   ]
  },
  {
   "cell_type": "code",
   "execution_count": null,
   "id": "31452061",
   "metadata": {},
   "outputs": [],
   "source": [
    "#execution of things at a time"
   ]
  },
  {
   "cell_type": "code",
   "execution_count": 30,
   "id": "da17990d",
   "metadata": {},
   "outputs": [
    {
     "name": "stdout",
     "output_type": "stream",
     "text": [
      "how are you\n",
      "good to see you\n"
     ]
    }
   ],
   "source": [
    "s1.show()\n",
    "s1.read()"
   ]
  },
  {
   "cell_type": "code",
   "execution_count": null,
   "id": "b21a2090",
   "metadata": {},
   "outputs": [],
   "source": [
    "##example 3:"
   ]
  },
  {
   "cell_type": "code",
   "execution_count": 32,
   "id": "3ade355e",
   "metadata": {},
   "outputs": [],
   "source": [
    "class name:\n",
    "    def createname(self,name):\n",
    "        self.name=name\n",
    "    def display(self):\n",
    "        return self.name\n",
    "    def greeting(self):\n",
    "        print(f\"hello how are you,{self.name}\")"
   ]
  },
  {
   "cell_type": "code",
   "execution_count": 33,
   "id": "ff33f1a2",
   "metadata": {},
   "outputs": [],
   "source": [
    "example=name()"
   ]
  },
  {
   "cell_type": "code",
   "execution_count": 34,
   "id": "cca52e74",
   "metadata": {},
   "outputs": [],
   "source": [
    "example.createname('ramya')"
   ]
  },
  {
   "cell_type": "code",
   "execution_count": 35,
   "id": "73a2d0a1",
   "metadata": {},
   "outputs": [
    {
     "data": {
      "text/plain": [
       "'ramya'"
      ]
     },
     "execution_count": 35,
     "metadata": {},
     "output_type": "execute_result"
    }
   ],
   "source": [
    "example.display()"
   ]
  },
  {
   "cell_type": "code",
   "execution_count": 36,
   "id": "446b5722",
   "metadata": {},
   "outputs": [
    {
     "name": "stdout",
     "output_type": "stream",
     "text": [
      "hello how are you,ramya\n"
     ]
    }
   ],
   "source": [
    "example.greeting()"
   ]
  },
  {
   "cell_type": "code",
   "execution_count": null,
   "id": "01421e42",
   "metadata": {},
   "outputs": [],
   "source": []
  },
  {
   "cell_type": "code",
   "execution_count": null,
   "id": "fbe8e6ff",
   "metadata": {},
   "outputs": [],
   "source": []
  },
  {
   "cell_type": "code",
   "execution_count": null,
   "id": "f14633d8",
   "metadata": {},
   "outputs": [],
   "source": []
  }
 ],
 "metadata": {
  "kernelspec": {
   "display_name": "Python 3",
   "language": "python",
   "name": "python3"
  },
  "language_info": {
   "codemirror_mode": {
    "name": "ipython",
    "version": 3
   },
   "file_extension": ".py",
   "mimetype": "text/x-python",
   "name": "python",
   "nbconvert_exporter": "python",
   "pygments_lexer": "ipython3",
   "version": "3.8.8"
  }
 },
 "nbformat": 4,
 "nbformat_minor": 5
}
